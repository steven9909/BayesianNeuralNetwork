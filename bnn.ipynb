{
  "cells": [
    {
      "cell_type": "code",
      "execution_count": 16,
      "metadata": {
        "colab": {
          "base_uri": "https://localhost:8080/"
        },
        "id": "gLIyDF_o0B_j",
        "outputId": "98a88151-f0ab-4514-c8db-8d8f7663bb39"
      },
      "outputs": [
        {
          "name": "stdout",
          "output_type": "stream",
          "text": [
            "Requirement already satisfied: torchvision in ./venv/lib/python3.10/site-packages (0.13.1)\n",
            "Requirement already satisfied: torch in ./venv/lib/python3.10/site-packages (from torchvision) (1.12.1)\n",
            "Requirement already satisfied: pillow!=8.3.*,>=5.3.0 in ./venv/lib/python3.10/site-packages (from torchvision) (9.2.0)\n",
            "Requirement already satisfied: numpy in ./venv/lib/python3.10/site-packages (from torchvision) (1.23.4)\n",
            "Requirement already satisfied: typing-extensions in ./venv/lib/python3.10/site-packages (from torchvision) (4.4.0)\n",
            "Requirement already satisfied: requests in ./venv/lib/python3.10/site-packages (from torchvision) (2.28.1)\n",
            "Requirement already satisfied: certifi>=2017.4.17 in ./venv/lib/python3.10/site-packages (from requests->torchvision) (2022.9.24)\n",
            "Requirement already satisfied: idna<4,>=2.5 in ./venv/lib/python3.10/site-packages (from requests->torchvision) (3.4)\n",
            "Requirement already satisfied: charset-normalizer<3,>=2 in ./venv/lib/python3.10/site-packages (from requests->torchvision) (2.1.1)\n",
            "Requirement already satisfied: urllib3<1.27,>=1.21.1 in ./venv/lib/python3.10/site-packages (from requests->torchvision) (1.26.12)\n",
            "\n",
            "\u001b[1m[\u001b[0m\u001b[34;49mnotice\u001b[0m\u001b[1;39;49m]\u001b[0m\u001b[39;49m A new release of pip available: \u001b[0m\u001b[31;49m22.2.2\u001b[0m\u001b[39;49m -> \u001b[0m\u001b[32;49m22.3\u001b[0m\n",
            "\u001b[1m[\u001b[0m\u001b[34;49mnotice\u001b[0m\u001b[1;39;49m]\u001b[0m\u001b[39;49m To update, run: \u001b[0m\u001b[32;49mpip install --upgrade pip\u001b[0m\n",
            "Requirement already satisfied: pyro-ppl in ./venv/lib/python3.10/site-packages (1.8.2)\n",
            "Requirement already satisfied: pyro-api>=0.1.1 in ./venv/lib/python3.10/site-packages (from pyro-ppl) (0.1.2)\n",
            "Requirement already satisfied: numpy>=1.7 in ./venv/lib/python3.10/site-packages (from pyro-ppl) (1.23.4)\n",
            "Requirement already satisfied: tqdm>=4.36 in ./venv/lib/python3.10/site-packages (from pyro-ppl) (4.64.1)\n",
            "Requirement already satisfied: opt-einsum>=2.3.2 in ./venv/lib/python3.10/site-packages (from pyro-ppl) (3.3.0)\n",
            "Requirement already satisfied: torch>=1.11.0 in ./venv/lib/python3.10/site-packages (from pyro-ppl) (1.12.1)\n",
            "Requirement already satisfied: typing-extensions in ./venv/lib/python3.10/site-packages (from torch>=1.11.0->pyro-ppl) (4.4.0)\n",
            "\n",
            "\u001b[1m[\u001b[0m\u001b[34;49mnotice\u001b[0m\u001b[1;39;49m]\u001b[0m\u001b[39;49m A new release of pip available: \u001b[0m\u001b[31;49m22.2.2\u001b[0m\u001b[39;49m -> \u001b[0m\u001b[32;49m22.3\u001b[0m\n",
            "\u001b[1m[\u001b[0m\u001b[34;49mnotice\u001b[0m\u001b[1;39;49m]\u001b[0m\u001b[39;49m To update, run: \u001b[0m\u001b[32;49mpip install --upgrade pip\u001b[0m\n",
            "Requirement already satisfied: matplotlib in ./venv/lib/python3.10/site-packages (3.6.1)\n",
            "Requirement already satisfied: python-dateutil>=2.7 in ./venv/lib/python3.10/site-packages (from matplotlib) (2.8.2)\n",
            "Requirement already satisfied: contourpy>=1.0.1 in ./venv/lib/python3.10/site-packages (from matplotlib) (1.0.5)\n",
            "Requirement already satisfied: kiwisolver>=1.0.1 in ./venv/lib/python3.10/site-packages (from matplotlib) (1.4.4)\n",
            "Requirement already satisfied: numpy>=1.19 in ./venv/lib/python3.10/site-packages (from matplotlib) (1.23.4)\n",
            "Requirement already satisfied: cycler>=0.10 in ./venv/lib/python3.10/site-packages (from matplotlib) (0.11.0)\n",
            "Requirement already satisfied: packaging>=20.0 in ./venv/lib/python3.10/site-packages (from matplotlib) (21.3)\n",
            "Requirement already satisfied: fonttools>=4.22.0 in ./venv/lib/python3.10/site-packages (from matplotlib) (4.37.4)\n",
            "Requirement already satisfied: pyparsing>=2.2.1 in ./venv/lib/python3.10/site-packages (from matplotlib) (3.0.9)\n",
            "Requirement already satisfied: pillow>=6.2.0 in ./venv/lib/python3.10/site-packages (from matplotlib) (9.2.0)\n",
            "Requirement already satisfied: six>=1.5 in ./venv/lib/python3.10/site-packages (from python-dateutil>=2.7->matplotlib) (1.16.0)\n",
            "\n",
            "\u001b[1m[\u001b[0m\u001b[34;49mnotice\u001b[0m\u001b[1;39;49m]\u001b[0m\u001b[39;49m A new release of pip available: \u001b[0m\u001b[31;49m22.2.2\u001b[0m\u001b[39;49m -> \u001b[0m\u001b[32;49m22.3\u001b[0m\n",
            "\u001b[1m[\u001b[0m\u001b[34;49mnotice\u001b[0m\u001b[1;39;49m]\u001b[0m\u001b[39;49m To update, run: \u001b[0m\u001b[32;49mpip install --upgrade pip\u001b[0m\n",
            "Requirement already satisfied: tqdm in ./venv/lib/python3.10/site-packages (4.64.1)\n",
            "\n",
            "\u001b[1m[\u001b[0m\u001b[34;49mnotice\u001b[0m\u001b[1;39;49m]\u001b[0m\u001b[39;49m A new release of pip available: \u001b[0m\u001b[31;49m22.2.2\u001b[0m\u001b[39;49m -> \u001b[0m\u001b[32;49m22.3\u001b[0m\n",
            "\u001b[1m[\u001b[0m\u001b[34;49mnotice\u001b[0m\u001b[1;39;49m]\u001b[0m\u001b[39;49m To update, run: \u001b[0m\u001b[32;49mpip install --upgrade pip\u001b[0m\n"
          ]
        }
      ],
      "source": [
        "!pip install torchvision\n",
        "!pip install pyro-ppl\n",
        "!pip install matplotlib\n",
        "!pip install tqdm"
      ]
    },
    {
      "cell_type": "markdown",
      "metadata": {
        "id": "4kUxldnljQPk"
      },
      "source": [
        "# Bayesian Neural Network"
      ]
    },
    {
      "cell_type": "code",
      "execution_count": 66,
      "metadata": {
        "id": "ah6JWSaCjiH2"
      },
      "outputs": [],
      "source": [
        "import os\n",
        "\n",
        "import matplotlib.pyplot as plt\n",
        "import pyro\n",
        "import pyro.distributions as dist\n",
        "import torch\n",
        "import torch.nn as nn\n",
        "import torch.nn.functional as F\n",
        "import random\n",
        "from typing import List\n",
        "from pyro.infer import SVI, Predictive, Trace_ELBO\n",
        "from pyro.infer.autoguide import AutoNormal\n",
        "from pyro.nn import PyroModule, PyroSample\n",
        "from torch import randn\n",
        "from torch.nn import Identity, LogSoftmax, ReLU, Sequential, Softmax\n",
        "from torch.utils.data import DataLoader, Dataset\n",
        "from torchvision import transforms\n",
        "from torch import Tensor\n",
        "from torchvision.datasets import MNIST, CIFAR10\n",
        "from tqdm import trange\n"
      ]
    },
    {
      "cell_type": "markdown",
      "metadata": {},
      "source": [
        "# CONSTANTS"
      ]
    },
    {
      "cell_type": "code",
      "execution_count": 54,
      "metadata": {},
      "outputs": [],
      "source": [
        "BATCH_SIZE = 128\n",
        "EPOCH = 40"
      ]
    },
    {
      "cell_type": "markdown",
      "metadata": {},
      "source": [
        "# MODEL"
      ]
    },
    {
      "cell_type": "code",
      "execution_count": 56,
      "metadata": {
        "id": "gZNUKsVHjSof"
      },
      "outputs": [],
      "source": [
        "class BayesianMLP(PyroModule):\n",
        "  def __init__(self, input_size:int = 784, output_size:int = 10):\n",
        "    \"\"\"\n",
        "    creates a Bayesian MLP with input nodes of size input_size and output nodes of size output_size\n",
        "\n",
        "    :param input_size: dimension of input\n",
        "    :param output_size: dimension of output\n",
        "    :return: BayesianMLP object\n",
        "    \"\"\"\n",
        "    super().__init__()\n",
        "    self.fc1 = PyroModule[nn.Linear](1024, input_size)\n",
        "    self.fc1.weight = PyroSample(dist.Normal(0., 1.).expand([1024, input_size]).to_event(2))\n",
        "    self.fc1.bias = PyroSample(dist.Normal(0., 1.).expand([1024]).to_event(1))\n",
        "    self.fc2 = PyroModule[nn.Linear](output_size, 1024)\n",
        "    self.fc2.weight = PyroSample(dist.Normal(0., 1.).expand([output_size, 1024]).to_event(2))\n",
        "    self.fc2.bias = PyroSample(dist.Normal(0., 1.).expand([output_size]).to_event(1))\n",
        "    self.relu = nn.ReLU()\n",
        "    self.softmax = LogSoftmax(dim=1)\n",
        "  \n",
        "  def forward(self, input, output=None):\n",
        "    \"\"\"\n",
        "    forwards input through the BayesianMLP\n",
        "\n",
        "    :param input: input to the network\n",
        "    :param output: observed variable\n",
        "    :return: sampled output\n",
        "    \"\"\"\n",
        "    out = self.fc1(input)\n",
        "    out = self.relu(out)\n",
        "    out = self.fc2(out)\n",
        "\n",
        "    logits = self.softmax(out)\n",
        "\n",
        "    with pyro.plate(\"data\", out.shape[0]):\n",
        "        return pyro.sample(\"obs\", dist.Categorical(logits=logits), obs=output)"
      ]
    },
    {
      "cell_type": "markdown",
      "metadata": {},
      "source": [
        "# DATASET PREPARATION"
      ]
    },
    {
      "cell_type": "code",
      "execution_count": 57,
      "metadata": {
        "id": "Bi-GEw9MzkM1"
      },
      "outputs": [],
      "source": [
        "train_dataset = MNIST(\n",
        "    root = os.getcwd(), \n",
        "    train = True, \n",
        "    download = True, \n",
        "    transform = transforms.Compose(\n",
        "        [\n",
        "          transforms.ToTensor(), \n",
        "          transforms.Normalize((0.1307,), (0.3081,))\n",
        "        ]\n",
        "    )\n",
        ")\n",
        "\n",
        "train_loader = DataLoader(train_dataset, BATCH_SIZE, shuffle = True)\n",
        "\n",
        "test_dataset = MNIST(\n",
        "    root = os.getcwd(), \n",
        "    train = False, \n",
        "    download = True, \n",
        "    transform = transforms.Compose(\n",
        "        [\n",
        "          transforms.ToTensor(), \n",
        "          transforms.Normalize((0.1307,), (0.3081,))\n",
        "        ]\n",
        "    )\n",
        ")"
      ]
    },
    {
      "cell_type": "markdown",
      "metadata": {},
      "source": [
        "# TRAINING"
      ]
    },
    {
      "cell_type": "code",
      "execution_count": 58,
      "metadata": {
        "colab": {
          "base_uri": "https://localhost:8080/"
        },
        "id": "RGRTwzTf8u_w",
        "outputId": "9adeb85c-5a0e-4228-e0ce-5c55f38595fe"
      },
      "outputs": [
        {
          "name": "stderr",
          "output_type": "stream",
          "text": [
            "Processed image 467: 100%|██████████| 468/468 [00:20<00:00, 23.11it/s]\n"
          ]
        },
        {
          "name": "stdout",
          "output_type": "stream",
          "text": [
            "At epoch: 0 the loss was: 4751343.183026357\n"
          ]
        },
        {
          "name": "stderr",
          "output_type": "stream",
          "text": [
            "Processed image 467: 100%|██████████| 468/468 [00:19<00:00, 23.58it/s]\n"
          ]
        },
        {
          "name": "stdout",
          "output_type": "stream",
          "text": [
            "At epoch: 1 the loss was: 3532529.1672282377\n"
          ]
        },
        {
          "name": "stderr",
          "output_type": "stream",
          "text": [
            "Processed image 467: 100%|██████████| 468/468 [00:20<00:00, 23.22it/s]\n"
          ]
        },
        {
          "name": "stdout",
          "output_type": "stream",
          "text": [
            "At epoch: 2 the loss was: 2436744.8956352137\n"
          ]
        },
        {
          "name": "stderr",
          "output_type": "stream",
          "text": [
            "Processed image 467: 100%|██████████| 468/468 [00:20<00:00, 23.31it/s]\n"
          ]
        },
        {
          "name": "stdout",
          "output_type": "stream",
          "text": [
            "At epoch: 3 the loss was: 1529338.0400264165\n"
          ]
        },
        {
          "name": "stderr",
          "output_type": "stream",
          "text": [
            "Processed image 467: 100%|██████████| 468/468 [00:20<00:00, 23.10it/s]\n"
          ]
        },
        {
          "name": "stdout",
          "output_type": "stream",
          "text": [
            "At epoch: 4 the loss was: 864496.2155754431\n"
          ]
        },
        {
          "name": "stderr",
          "output_type": "stream",
          "text": [
            "Processed image 467: 100%|██████████| 468/468 [00:20<00:00, 23.16it/s]\n"
          ]
        },
        {
          "name": "stdout",
          "output_type": "stream",
          "text": [
            "At epoch: 5 the loss was: 450503.85421465104\n"
          ]
        },
        {
          "name": "stderr",
          "output_type": "stream",
          "text": [
            "Processed image 467: 100%|██████████| 468/468 [00:20<00:00, 23.11it/s]\n"
          ]
        },
        {
          "name": "stdout",
          "output_type": "stream",
          "text": [
            "At epoch: 6 the loss was: 233216.22652964946\n"
          ]
        },
        {
          "name": "stderr",
          "output_type": "stream",
          "text": [
            "Processed image 467: 100%|██████████| 468/468 [00:19<00:00, 23.44it/s]\n"
          ]
        },
        {
          "name": "stdout",
          "output_type": "stream",
          "text": [
            "At epoch: 7 the loss was: 132180.031463176\n"
          ]
        },
        {
          "name": "stderr",
          "output_type": "stream",
          "text": [
            "Processed image 467: 100%|██████████| 468/468 [00:19<00:00, 23.44it/s]\n"
          ]
        },
        {
          "name": "stdout",
          "output_type": "stream",
          "text": [
            "At epoch: 8 the loss was: 87190.24977963045\n"
          ]
        },
        {
          "name": "stderr",
          "output_type": "stream",
          "text": [
            "Processed image 467: 100%|██████████| 468/468 [00:19<00:00, 23.49it/s]\n"
          ]
        },
        {
          "name": "stdout",
          "output_type": "stream",
          "text": [
            "At epoch: 9 the loss was: 66769.6324028857\n"
          ]
        },
        {
          "name": "stderr",
          "output_type": "stream",
          "text": [
            "Processed image 467: 100%|██████████| 468/468 [00:20<00:00, 23.20it/s]\n"
          ]
        },
        {
          "name": "stdout",
          "output_type": "stream",
          "text": [
            "At epoch: 10 the loss was: 56539.6187197268\n"
          ]
        },
        {
          "name": "stderr",
          "output_type": "stream",
          "text": [
            "Processed image 467: 100%|██████████| 468/468 [00:19<00:00, 23.44it/s]\n"
          ]
        },
        {
          "name": "stdout",
          "output_type": "stream",
          "text": [
            "At epoch: 11 the loss was: 50965.34050164744\n"
          ]
        },
        {
          "name": "stderr",
          "output_type": "stream",
          "text": [
            "Processed image 467: 100%|██████████| 468/468 [00:19<00:00, 23.47it/s]\n"
          ]
        },
        {
          "name": "stdout",
          "output_type": "stream",
          "text": [
            "At epoch: 12 the loss was: 48277.17024314776\n"
          ]
        },
        {
          "name": "stderr",
          "output_type": "stream",
          "text": [
            "Processed image 467: 100%|██████████| 468/468 [00:20<00:00, 23.17it/s]\n"
          ]
        },
        {
          "name": "stdout",
          "output_type": "stream",
          "text": [
            "At epoch: 13 the loss was: 46267.32499425858\n"
          ]
        },
        {
          "name": "stderr",
          "output_type": "stream",
          "text": [
            "Processed image 467: 100%|██████████| 468/468 [00:19<00:00, 23.60it/s]\n"
          ]
        },
        {
          "name": "stdout",
          "output_type": "stream",
          "text": [
            "At epoch: 14 the loss was: 44935.11916195601\n"
          ]
        },
        {
          "name": "stderr",
          "output_type": "stream",
          "text": [
            "Processed image 467: 100%|██████████| 468/468 [00:20<00:00, 23.24it/s]\n"
          ]
        },
        {
          "name": "stdout",
          "output_type": "stream",
          "text": [
            "At epoch: 15 the loss was: 44133.78112894297\n"
          ]
        },
        {
          "name": "stderr",
          "output_type": "stream",
          "text": [
            "Processed image 467: 100%|██████████| 468/468 [00:19<00:00, 23.46it/s]\n"
          ]
        },
        {
          "name": "stdout",
          "output_type": "stream",
          "text": [
            "At epoch: 16 the loss was: 43363.161490656435\n"
          ]
        },
        {
          "name": "stderr",
          "output_type": "stream",
          "text": [
            "Processed image 467: 100%|██████████| 468/468 [00:20<00:00, 23.32it/s]\n"
          ]
        },
        {
          "name": "stdout",
          "output_type": "stream",
          "text": [
            "At epoch: 17 the loss was: 43221.800300017\n"
          ]
        },
        {
          "name": "stderr",
          "output_type": "stream",
          "text": [
            "Processed image 467: 100%|██████████| 468/468 [00:19<00:00, 23.41it/s]\n"
          ]
        },
        {
          "name": "stdout",
          "output_type": "stream",
          "text": [
            "At epoch: 18 the loss was: 42429.89156751335\n"
          ]
        },
        {
          "name": "stderr",
          "output_type": "stream",
          "text": [
            "Processed image 467: 100%|██████████| 468/468 [00:20<00:00, 22.99it/s]\n"
          ]
        },
        {
          "name": "stdout",
          "output_type": "stream",
          "text": [
            "At epoch: 19 the loss was: 42111.906178846955\n"
          ]
        },
        {
          "name": "stderr",
          "output_type": "stream",
          "text": [
            "Processed image 467: 100%|██████████| 468/468 [00:20<00:00, 22.92it/s]\n"
          ]
        },
        {
          "name": "stdout",
          "output_type": "stream",
          "text": [
            "At epoch: 20 the loss was: 41705.82100690156\n"
          ]
        },
        {
          "name": "stderr",
          "output_type": "stream",
          "text": [
            "Processed image 467: 100%|██████████| 468/468 [00:20<00:00, 23.35it/s]\n"
          ]
        },
        {
          "name": "stdout",
          "output_type": "stream",
          "text": [
            "At epoch: 21 the loss was: 41858.49648690969\n"
          ]
        },
        {
          "name": "stderr",
          "output_type": "stream",
          "text": [
            "Processed image 467: 100%|██████████| 468/468 [00:19<00:00, 23.53it/s]\n"
          ]
        },
        {
          "name": "stdout",
          "output_type": "stream",
          "text": [
            "At epoch: 22 the loss was: 41360.32131327689\n"
          ]
        },
        {
          "name": "stderr",
          "output_type": "stream",
          "text": [
            "Processed image 467: 100%|██████████| 468/468 [00:20<00:00, 22.91it/s]\n"
          ]
        },
        {
          "name": "stdout",
          "output_type": "stream",
          "text": [
            "At epoch: 23 the loss was: 41452.62125771493\n"
          ]
        },
        {
          "name": "stderr",
          "output_type": "stream",
          "text": [
            "Processed image 467: 100%|██████████| 468/468 [00:20<00:00, 23.10it/s]\n"
          ]
        },
        {
          "name": "stdout",
          "output_type": "stream",
          "text": [
            "At epoch: 24 the loss was: 40917.27993545681\n"
          ]
        },
        {
          "name": "stderr",
          "output_type": "stream",
          "text": [
            "Processed image 467: 100%|██████████| 468/468 [00:20<00:00, 22.71it/s]\n"
          ]
        },
        {
          "name": "stdout",
          "output_type": "stream",
          "text": [
            "At epoch: 25 the loss was: 40719.01121405512\n"
          ]
        },
        {
          "name": "stderr",
          "output_type": "stream",
          "text": [
            "Processed image 467: 100%|██████████| 468/468 [00:20<00:00, 23.01it/s]\n"
          ]
        },
        {
          "name": "stdout",
          "output_type": "stream",
          "text": [
            "At epoch: 26 the loss was: 40424.58570318669\n"
          ]
        },
        {
          "name": "stderr",
          "output_type": "stream",
          "text": [
            "Processed image 467: 100%|██████████| 468/468 [00:19<00:00, 23.62it/s]\n"
          ]
        },
        {
          "name": "stdout",
          "output_type": "stream",
          "text": [
            "At epoch: 27 the loss was: 40340.59591843933\n"
          ]
        },
        {
          "name": "stderr",
          "output_type": "stream",
          "text": [
            "Processed image 467: 100%|██████████| 468/468 [00:20<00:00, 22.88it/s]\n"
          ]
        },
        {
          "name": "stdout",
          "output_type": "stream",
          "text": [
            "At epoch: 28 the loss was: 40008.41429132223\n"
          ]
        },
        {
          "name": "stderr",
          "output_type": "stream",
          "text": [
            "Processed image 467: 100%|██████████| 468/468 [00:20<00:00, 22.91it/s]\n"
          ]
        },
        {
          "name": "stdout",
          "output_type": "stream",
          "text": [
            "At epoch: 29 the loss was: 39904.91870614886\n"
          ]
        },
        {
          "name": "stderr",
          "output_type": "stream",
          "text": [
            "Processed image 467: 100%|██████████| 468/468 [00:19<00:00, 23.56it/s]\n"
          ]
        },
        {
          "name": "stdout",
          "output_type": "stream",
          "text": [
            "At epoch: 30 the loss was: 39920.07426185906\n"
          ]
        },
        {
          "name": "stderr",
          "output_type": "stream",
          "text": [
            "Processed image 467: 100%|██████████| 468/468 [00:19<00:00, 23.41it/s]\n"
          ]
        },
        {
          "name": "stdout",
          "output_type": "stream",
          "text": [
            "At epoch: 31 the loss was: 39903.83296249807\n"
          ]
        },
        {
          "name": "stderr",
          "output_type": "stream",
          "text": [
            "Processed image 467: 100%|██████████| 468/468 [00:20<00:00, 23.08it/s]\n"
          ]
        },
        {
          "name": "stdout",
          "output_type": "stream",
          "text": [
            "At epoch: 32 the loss was: 39531.34138819575\n"
          ]
        },
        {
          "name": "stderr",
          "output_type": "stream",
          "text": [
            "Processed image 467: 100%|██████████| 468/468 [00:19<00:00, 23.56it/s]\n"
          ]
        },
        {
          "name": "stdout",
          "output_type": "stream",
          "text": [
            "At epoch: 33 the loss was: 39483.143574886024\n"
          ]
        },
        {
          "name": "stderr",
          "output_type": "stream",
          "text": [
            "Processed image 467: 100%|██████████| 468/468 [00:20<00:00, 22.39it/s]\n"
          ]
        },
        {
          "name": "stdout",
          "output_type": "stream",
          "text": [
            "At epoch: 34 the loss was: 39242.07673315704\n"
          ]
        },
        {
          "name": "stderr",
          "output_type": "stream",
          "text": [
            "Processed image 467: 100%|██████████| 468/468 [00:20<00:00, 23.17it/s]\n"
          ]
        },
        {
          "name": "stdout",
          "output_type": "stream",
          "text": [
            "At epoch: 35 the loss was: 39319.739766426384\n"
          ]
        },
        {
          "name": "stderr",
          "output_type": "stream",
          "text": [
            "Processed image 467: 100%|██████████| 468/468 [00:19<00:00, 23.43it/s]\n"
          ]
        },
        {
          "name": "stdout",
          "output_type": "stream",
          "text": [
            "At epoch: 36 the loss was: 39168.960543856025\n"
          ]
        },
        {
          "name": "stderr",
          "output_type": "stream",
          "text": [
            "Processed image 467: 100%|██████████| 468/468 [00:19<00:00, 23.41it/s]\n"
          ]
        },
        {
          "name": "stdout",
          "output_type": "stream",
          "text": [
            "At epoch: 37 the loss was: 39072.871697604656\n"
          ]
        },
        {
          "name": "stderr",
          "output_type": "stream",
          "text": [
            "Processed image 467: 100%|██████████| 468/468 [00:20<00:00, 23.08it/s]\n"
          ]
        },
        {
          "name": "stdout",
          "output_type": "stream",
          "text": [
            "At epoch: 38 the loss was: 39091.417410194874\n"
          ]
        },
        {
          "name": "stderr",
          "output_type": "stream",
          "text": [
            "Processed image 467: 100%|██████████| 468/468 [00:20<00:00, 23.05it/s]"
          ]
        },
        {
          "name": "stdout",
          "output_type": "stream",
          "text": [
            "At epoch: 39 the loss was: 38925.95010703057\n"
          ]
        },
        {
          "name": "stderr",
          "output_type": "stream",
          "text": [
            "\n"
          ]
        },
        {
          "data": {
            "text/plain": [
              "[<matplotlib.lines.Line2D at 0x280637b50>]"
            ]
          },
          "execution_count": 58,
          "metadata": {},
          "output_type": "execute_result"
        },
        {
          "data": {
            "image/png": "[encoded data removed]",
            "text/plain": [
              "<Figure size 640x480 with 1 Axes>"
            ]
          },
          "metadata": {},
          "output_type": "display_data"
        }
      ],
      "source": [
        "model = BayesianMLP()\n",
        "guide = AutoNormal(model) # use Normal distribution as prior guide for SVI\n",
        "adam = pyro.optim.Adam({\"lr\": 0.001}) # Adam optimizer for SVI\n",
        "svi = SVI(model, guide, adam, loss=Trace_ELBO()) # specify ELBO loss using Stochastic Variational Inference\n",
        "\n",
        "pyro.clear_param_store() # clear out any stored parameter from pyro \n",
        "\n",
        "epoch_losses = []\n",
        "\n",
        "for e in range(EPOCH):\n",
        "  loss = 0\n",
        "  tbar = trange(len(train_loader.dataset)//BATCH_SIZE)\n",
        "  for data, i in zip(train_loader, tbar):\n",
        "    x = torch.flatten(data[0], start_dim = 1)\n",
        "    y = data[1]\n",
        "    tbar.set_description(f\"Processed image {i}\")\n",
        "    loss += svi.step(x, y) / BATCH_SIZE\n",
        "   \n",
        "  epoch_loss = loss / len(train_loader.dataset)\n",
        "  epoch_losses.append(epoch_loss)\n",
        "  print(f\"At epoch: {e} the loss was: {loss}\")\n",
        "\n",
        "plt.plot(epoch_losses)"
      ]
    },
    {
      "cell_type": "markdown",
      "metadata": {},
      "source": [
        "# PREDICTION ON MNIST"
      ]
    },
    {
      "cell_type": "code",
      "execution_count": 64,
      "metadata": {},
      "outputs": [],
      "source": [
        "def display_inference(display:int, images: List[Tensor], means: List[int], stds: List[float]):\n",
        "    f, axes = plt.subplots(display, 2)\n",
        "    for i in range(display):\n",
        "        axes[i, 0].set_axis_off()\n",
        "        axes[i, 1].set_axis_off()\n",
        "\n",
        "        axes[i, 0].imshow(images[i], cmap = 'gray')\n",
        "        axes[i, 1].text(0, 0, f\"prediction = {means[i]}, std = {stds[i]}\")"
      ]
    },
    {
      "cell_type": "code",
      "execution_count": 67,
      "metadata": {},
      "outputs": [],
      "source": [
        "def calculate_inference(num_to_sample:int, dataset: Dataset, pred: Predictive):\n",
        "    dataset = list(dataset)\n",
        "\n",
        "    sampled = random.sample(dataset, k=num_to_sample)\n",
        "\n",
        "    images = [sample[0].squeeze(0) for sample in sampled]\n",
        "    predictions = [pred(sample[0].flatten(0).unsqueeze(0)) for sample in sampled]\n",
        "    means = [round(prediction['obs'].T.numpy().mean(axis=1)[0]) for prediction in predictions]\n",
        "    stds = [prediction['obs'].T.numpy().std(axis=1)[0] for prediction in predictions]\n",
        "\n",
        "    return (images, means, stds)"
      ]
    },
    {
      "cell_type": "code",
      "execution_count": 70,
      "metadata": {
        "colab": {
          "base_uri": "https://localhost:8080/",
          "height": 418
        },
        "id": "9icqDZOaDKtW",
        "outputId": "8218999b-d6b6-4b2d-9f6c-c69aa9852ae7"
      },
      "outputs": [
        {
          "data": {
            "image/png": "[encoded data removed]",
            "text/plain": [
              "<Figure size 640x480 with 10 Axes>"
            ]
          },
          "metadata": {},
          "output_type": "display_data"
        }
      ],
      "source": [
        "NUM_TO_DISPLAY = 5\n",
        "\n",
        "pred = Predictive(model, guide=guide, num_samples=500)\n",
        "\n",
        "display_inference(NUM_TO_DISPLAY, *calculate_inference(NUM_TO_DISPLAY, test_dataset, pred))"
      ]
    },
    {
      "cell_type": "markdown",
      "metadata": {},
      "source": [
        "# PREDICTION ON CIFAR10"
      ]
    },
    {
      "cell_type": "code",
      "execution_count": 81,
      "metadata": {},
      "outputs": [
        {
          "name": "stdout",
          "output_type": "stream",
          "text": [
            "Files already downloaded and verified\n"
          ]
        },
        {
          "ename": "KeyboardInterrupt",
          "evalue": "",
          "output_type": "error",
          "traceback": [
            "\u001b[0;31m---------------------------------------------------------------------------\u001b[0m",
            "\u001b[0;31mKeyboardInterrupt\u001b[0m                         Traceback (most recent call last)",
            "Cell \u001b[0;32mIn [81], line 15\u001b[0m\n\u001b[1;32m      1\u001b[0m cifar_dataset \u001b[38;5;241m=\u001b[39m CIFAR10(\n\u001b[1;32m      2\u001b[0m     root \u001b[38;5;241m=\u001b[39m os\u001b[38;5;241m.\u001b[39mgetcwd(), \n\u001b[1;32m      3\u001b[0m     train \u001b[38;5;241m=\u001b[39m \u001b[38;5;28;01mFalse\u001b[39;00m, \n\u001b[0;32m   (...)\u001b[0m\n\u001b[1;32m     12\u001b[0m     )\n\u001b[1;32m     13\u001b[0m )\n\u001b[0;32m---> 15\u001b[0m display_inference(NUM_TO_DISPLAY, \u001b[38;5;241m*\u001b[39m\u001b[43mcalculate_inference\u001b[49m\u001b[43m(\u001b[49m\u001b[43mNUM_TO_DISPLAY\u001b[49m\u001b[43m,\u001b[49m\u001b[43m \u001b[49m\u001b[43mcifar_dataset\u001b[49m\u001b[43m,\u001b[49m\u001b[43m \u001b[49m\u001b[43mpred\u001b[49m\u001b[43m)\u001b[49m)\n",
            "Cell \u001b[0;32mIn [67], line 7\u001b[0m, in \u001b[0;36mcalculate_inference\u001b[0;34m(num_to_sample, dataset, pred)\u001b[0m\n\u001b[1;32m      4\u001b[0m sampled \u001b[38;5;241m=\u001b[39m random\u001b[38;5;241m.\u001b[39msample(dataset, k\u001b[38;5;241m=\u001b[39mnum_to_sample)\n\u001b[1;32m      6\u001b[0m images \u001b[38;5;241m=\u001b[39m [sample[\u001b[38;5;241m0\u001b[39m]\u001b[38;5;241m.\u001b[39msqueeze(\u001b[38;5;241m0\u001b[39m) \u001b[38;5;28;01mfor\u001b[39;00m sample \u001b[38;5;129;01min\u001b[39;00m sampled]\n\u001b[0;32m----> 7\u001b[0m predictions \u001b[38;5;241m=\u001b[39m [pred(sample[\u001b[38;5;241m0\u001b[39m]\u001b[38;5;241m.\u001b[39mflatten(\u001b[38;5;241m0\u001b[39m)\u001b[38;5;241m.\u001b[39munsqueeze(\u001b[38;5;241m0\u001b[39m)) \u001b[38;5;28;01mfor\u001b[39;00m sample \u001b[38;5;129;01min\u001b[39;00m sampled]\n\u001b[1;32m      8\u001b[0m means \u001b[38;5;241m=\u001b[39m [\u001b[38;5;28mround\u001b[39m(prediction[\u001b[38;5;124m'\u001b[39m\u001b[38;5;124mobs\u001b[39m\u001b[38;5;124m'\u001b[39m]\u001b[38;5;241m.\u001b[39mT\u001b[38;5;241m.\u001b[39mnumpy()\u001b[38;5;241m.\u001b[39mmean(axis\u001b[38;5;241m=\u001b[39m\u001b[38;5;241m1\u001b[39m)[\u001b[38;5;241m0\u001b[39m]) \u001b[38;5;28;01mfor\u001b[39;00m prediction \u001b[38;5;129;01min\u001b[39;00m predictions]\n\u001b[1;32m      9\u001b[0m stds \u001b[38;5;241m=\u001b[39m [prediction[\u001b[38;5;124m'\u001b[39m\u001b[38;5;124mobs\u001b[39m\u001b[38;5;124m'\u001b[39m]\u001b[38;5;241m.\u001b[39mT\u001b[38;5;241m.\u001b[39mnumpy()\u001b[38;5;241m.\u001b[39mstd(axis\u001b[38;5;241m=\u001b[39m\u001b[38;5;241m1\u001b[39m)[\u001b[38;5;241m0\u001b[39m] \u001b[38;5;28;01mfor\u001b[39;00m prediction \u001b[38;5;129;01min\u001b[39;00m predictions]\n",
            "Cell \u001b[0;32mIn [67], line 7\u001b[0m, in \u001b[0;36m<listcomp>\u001b[0;34m(.0)\u001b[0m\n\u001b[1;32m      4\u001b[0m sampled \u001b[38;5;241m=\u001b[39m random\u001b[38;5;241m.\u001b[39msample(dataset, k\u001b[38;5;241m=\u001b[39mnum_to_sample)\n\u001b[1;32m      6\u001b[0m images \u001b[38;5;241m=\u001b[39m [sample[\u001b[38;5;241m0\u001b[39m]\u001b[38;5;241m.\u001b[39msqueeze(\u001b[38;5;241m0\u001b[39m) \u001b[38;5;28;01mfor\u001b[39;00m sample \u001b[38;5;129;01min\u001b[39;00m sampled]\n\u001b[0;32m----> 7\u001b[0m predictions \u001b[38;5;241m=\u001b[39m [\u001b[43mpred\u001b[49m\u001b[43m(\u001b[49m\u001b[43msample\u001b[49m\u001b[43m[\u001b[49m\u001b[38;5;241;43m0\u001b[39;49m\u001b[43m]\u001b[49m\u001b[38;5;241;43m.\u001b[39;49m\u001b[43mflatten\u001b[49m\u001b[43m(\u001b[49m\u001b[38;5;241;43m0\u001b[39;49m\u001b[43m)\u001b[49m\u001b[38;5;241;43m.\u001b[39;49m\u001b[43munsqueeze\u001b[49m\u001b[43m(\u001b[49m\u001b[38;5;241;43m0\u001b[39;49m\u001b[43m)\u001b[49m\u001b[43m)\u001b[49m \u001b[38;5;28;01mfor\u001b[39;00m sample \u001b[38;5;129;01min\u001b[39;00m sampled]\n\u001b[1;32m      8\u001b[0m means \u001b[38;5;241m=\u001b[39m [\u001b[38;5;28mround\u001b[39m(prediction[\u001b[38;5;124m'\u001b[39m\u001b[38;5;124mobs\u001b[39m\u001b[38;5;124m'\u001b[39m]\u001b[38;5;241m.\u001b[39mT\u001b[38;5;241m.\u001b[39mnumpy()\u001b[38;5;241m.\u001b[39mmean(axis\u001b[38;5;241m=\u001b[39m\u001b[38;5;241m1\u001b[39m)[\u001b[38;5;241m0\u001b[39m]) \u001b[38;5;28;01mfor\u001b[39;00m prediction \u001b[38;5;129;01min\u001b[39;00m predictions]\n\u001b[1;32m      9\u001b[0m stds \u001b[38;5;241m=\u001b[39m [prediction[\u001b[38;5;124m'\u001b[39m\u001b[38;5;124mobs\u001b[39m\u001b[38;5;124m'\u001b[39m]\u001b[38;5;241m.\u001b[39mT\u001b[38;5;241m.\u001b[39mnumpy()\u001b[38;5;241m.\u001b[39mstd(axis\u001b[38;5;241m=\u001b[39m\u001b[38;5;241m1\u001b[39m)[\u001b[38;5;241m0\u001b[39m] \u001b[38;5;28;01mfor\u001b[39;00m prediction \u001b[38;5;129;01min\u001b[39;00m predictions]\n",
            "File \u001b[0;32m~/Desktop/bayesian-neural-net/venv/lib/python3.10/site-packages/torch/nn/modules/module.py:1130\u001b[0m, in \u001b[0;36mModule._call_impl\u001b[0;34m(self, *input, **kwargs)\u001b[0m\n\u001b[1;32m   1126\u001b[0m \u001b[39m# If we don't have any hooks, we want to skip the rest of the logic in\u001b[39;00m\n\u001b[1;32m   1127\u001b[0m \u001b[39m# this function, and just call forward.\u001b[39;00m\n\u001b[1;32m   1128\u001b[0m \u001b[39mif\u001b[39;00m \u001b[39mnot\u001b[39;00m (\u001b[39mself\u001b[39m\u001b[39m.\u001b[39m_backward_hooks \u001b[39mor\u001b[39;00m \u001b[39mself\u001b[39m\u001b[39m.\u001b[39m_forward_hooks \u001b[39mor\u001b[39;00m \u001b[39mself\u001b[39m\u001b[39m.\u001b[39m_forward_pre_hooks \u001b[39mor\u001b[39;00m _global_backward_hooks\n\u001b[1;32m   1129\u001b[0m         \u001b[39mor\u001b[39;00m _global_forward_hooks \u001b[39mor\u001b[39;00m _global_forward_pre_hooks):\n\u001b[0;32m-> 1130\u001b[0m     \u001b[39mreturn\u001b[39;00m forward_call(\u001b[39m*\u001b[39;49m\u001b[39minput\u001b[39;49m, \u001b[39m*\u001b[39;49m\u001b[39m*\u001b[39;49mkwargs)\n\u001b[1;32m   1131\u001b[0m \u001b[39m# Do not call functions when jit is used\u001b[39;00m\n\u001b[1;32m   1132\u001b[0m full_backward_hooks, non_full_backward_hooks \u001b[39m=\u001b[39m [], []\n",
            "File \u001b[0;32m~/Desktop/bayesian-neural-net/venv/lib/python3.10/site-packages/pyro/infer/predictive.py:264\u001b[0m, in \u001b[0;36mPredictive.forward\u001b[0;34m(self, *args, **kwargs)\u001b[0m\n\u001b[1;32m    261\u001b[0m \u001b[39mif\u001b[39;00m \u001b[39mself\u001b[39m\u001b[39m.\u001b[39mguide \u001b[39mis\u001b[39;00m \u001b[39mnot\u001b[39;00m \u001b[39mNone\u001b[39;00m:\n\u001b[1;32m    262\u001b[0m     \u001b[39m# return all sites by default if a guide is provided.\u001b[39;00m\n\u001b[1;32m    263\u001b[0m     return_sites \u001b[39m=\u001b[39m \u001b[39mNone\u001b[39;00m \u001b[39mif\u001b[39;00m \u001b[39mnot\u001b[39;00m return_sites \u001b[39melse\u001b[39;00m return_sites\n\u001b[0;32m--> 264\u001b[0m     posterior_samples \u001b[39m=\u001b[39m _predictive(\n\u001b[1;32m    265\u001b[0m         \u001b[39mself\u001b[39;49m\u001b[39m.\u001b[39;49mguide,\n\u001b[1;32m    266\u001b[0m         posterior_samples,\n\u001b[1;32m    267\u001b[0m         \u001b[39mself\u001b[39;49m\u001b[39m.\u001b[39;49mnum_samples,\n\u001b[1;32m    268\u001b[0m         return_sites\u001b[39m=\u001b[39;49m\u001b[39mNone\u001b[39;49;00m,\n\u001b[1;32m    269\u001b[0m         parallel\u001b[39m=\u001b[39;49m\u001b[39mself\u001b[39;49m\u001b[39m.\u001b[39;49mparallel,\n\u001b[1;32m    270\u001b[0m         model_args\u001b[39m=\u001b[39;49margs,\n\u001b[1;32m    271\u001b[0m         model_kwargs\u001b[39m=\u001b[39;49mkwargs,\n\u001b[1;32m    272\u001b[0m     )\n\u001b[1;32m    273\u001b[0m \u001b[39mreturn\u001b[39;00m _predictive(\n\u001b[1;32m    274\u001b[0m     \u001b[39mself\u001b[39m\u001b[39m.\u001b[39mmodel,\n\u001b[1;32m    275\u001b[0m     posterior_samples,\n\u001b[0;32m   (...)\u001b[0m\n\u001b[1;32m    280\u001b[0m     model_kwargs\u001b[39m=\u001b[39mkwargs,\n\u001b[1;32m    281\u001b[0m )\n",
            "File \u001b[0;32m~/Desktop/bayesian-neural-net/venv/lib/python3.10/site-packages/pyro/infer/predictive.py:127\u001b[0m, in \u001b[0;36m_predictive\u001b[0;34m(model, posterior_samples, num_samples, return_sites, return_trace, parallel, model_args, model_kwargs)\u001b[0m\n\u001b[1;32m    124\u001b[0m     return_site_shapes[\u001b[39m\"\u001b[39m\u001b[39m_RETURN\u001b[39m\u001b[39m\"\u001b[39m] \u001b[39m=\u001b[39m shape\n\u001b[1;32m    126\u001b[0m \u001b[39mif\u001b[39;00m \u001b[39mnot\u001b[39;00m parallel:\n\u001b[0;32m--> 127\u001b[0m     \u001b[39mreturn\u001b[39;00m _predictive_sequential(\n\u001b[1;32m    128\u001b[0m         model,\n\u001b[1;32m    129\u001b[0m         posterior_samples,\n\u001b[1;32m    130\u001b[0m         model_args,\n\u001b[1;32m    131\u001b[0m         model_kwargs,\n\u001b[1;32m    132\u001b[0m         num_samples,\n\u001b[1;32m    133\u001b[0m         return_site_shapes,\n\u001b[1;32m    134\u001b[0m         return_trace\u001b[39m=\u001b[39;49m\u001b[39mFalse\u001b[39;49;00m,\n\u001b[1;32m    135\u001b[0m     )\n\u001b[1;32m    137\u001b[0m trace \u001b[39m=\u001b[39m poutine\u001b[39m.\u001b[39mtrace(\n\u001b[1;32m    138\u001b[0m     poutine\u001b[39m.\u001b[39mcondition(vectorize(model), reshaped_samples)\n\u001b[1;32m    139\u001b[0m )\u001b[39m.\u001b[39mget_trace(\u001b[39m*\u001b[39mmodel_args, \u001b[39m*\u001b[39m\u001b[39m*\u001b[39mmodel_kwargs)\n\u001b[1;32m    140\u001b[0m predictions \u001b[39m=\u001b[39m {}\n",
            "File \u001b[0;32m~/Desktop/bayesian-neural-net/venv/lib/python3.10/site-packages/pyro/infer/predictive.py:48\u001b[0m, in \u001b[0;36m_predictive_sequential\u001b[0;34m(model, posterior_samples, model_args, model_kwargs, num_samples, return_site_shapes, return_trace)\u001b[0m\n\u001b[1;32m     44\u001b[0m samples \u001b[39m=\u001b[39m [\n\u001b[1;32m     45\u001b[0m     {k: v[i] \u001b[39mfor\u001b[39;00m k, v \u001b[39min\u001b[39;00m posterior_samples\u001b[39m.\u001b[39mitems()} \u001b[39mfor\u001b[39;00m i \u001b[39min\u001b[39;00m \u001b[39mrange\u001b[39m(num_samples)\n\u001b[1;32m     46\u001b[0m ]\n\u001b[1;32m     47\u001b[0m \u001b[39mfor\u001b[39;00m i \u001b[39min\u001b[39;00m \u001b[39mrange\u001b[39m(num_samples):\n\u001b[0;32m---> 48\u001b[0m     trace \u001b[39m=\u001b[39m poutine\u001b[39m.\u001b[39;49mtrace(poutine\u001b[39m.\u001b[39;49mcondition(model, samples[i]))\u001b[39m.\u001b[39;49mget_trace(\n\u001b[1;32m     49\u001b[0m         \u001b[39m*\u001b[39;49mmodel_args, \u001b[39m*\u001b[39;49m\u001b[39m*\u001b[39;49mmodel_kwargs\n\u001b[1;32m     50\u001b[0m     )\n\u001b[1;32m     51\u001b[0m     \u001b[39mif\u001b[39;00m return_trace:\n\u001b[1;32m     52\u001b[0m         collected\u001b[39m.\u001b[39mappend(trace)\n",
            "File \u001b[0;32m~/Desktop/bayesian-neural-net/venv/lib/python3.10/site-packages/pyro/poutine/trace_messenger.py:198\u001b[0m, in \u001b[0;36mTraceHandler.get_trace\u001b[0;34m(self, *args, **kwargs)\u001b[0m\n\u001b[1;32m    190\u001b[0m \u001b[39mdef\u001b[39;00m \u001b[39mget_trace\u001b[39m(\u001b[39mself\u001b[39m, \u001b[39m*\u001b[39margs, \u001b[39m*\u001b[39m\u001b[39m*\u001b[39mkwargs):\n\u001b[1;32m    191\u001b[0m     \u001b[39m\"\"\"\u001b[39;00m\n\u001b[1;32m    192\u001b[0m \u001b[39m    :returns: data structure\u001b[39;00m\n\u001b[1;32m    193\u001b[0m \u001b[39m    :rtype: pyro.poutine.Trace\u001b[39;00m\n\u001b[0;32m   (...)\u001b[0m\n\u001b[1;32m    196\u001b[0m \u001b[39m    Calls this poutine and returns its trace instead of the function's return value.\u001b[39;00m\n\u001b[1;32m    197\u001b[0m \u001b[39m    \"\"\"\u001b[39;00m\n\u001b[0;32m--> 198\u001b[0m     \u001b[39mself\u001b[39;49m(\u001b[39m*\u001b[39;49margs, \u001b[39m*\u001b[39;49m\u001b[39m*\u001b[39;49mkwargs)\n\u001b[1;32m    199\u001b[0m     \u001b[39mreturn\u001b[39;00m \u001b[39mself\u001b[39m\u001b[39m.\u001b[39mmsngr\u001b[39m.\u001b[39mget_trace()\n",
            "File \u001b[0;32m~/Desktop/bayesian-neural-net/venv/lib/python3.10/site-packages/pyro/poutine/trace_messenger.py:174\u001b[0m, in \u001b[0;36mTraceHandler.__call__\u001b[0;34m(self, *args, **kwargs)\u001b[0m\n\u001b[1;32m    170\u001b[0m \u001b[39mself\u001b[39m\u001b[39m.\u001b[39mmsngr\u001b[39m.\u001b[39mtrace\u001b[39m.\u001b[39madd_node(\n\u001b[1;32m    171\u001b[0m     \u001b[39m\"\u001b[39m\u001b[39m_INPUT\u001b[39m\u001b[39m\"\u001b[39m, name\u001b[39m=\u001b[39m\u001b[39m\"\u001b[39m\u001b[39m_INPUT\u001b[39m\u001b[39m\"\u001b[39m, \u001b[39mtype\u001b[39m\u001b[39m=\u001b[39m\u001b[39m\"\u001b[39m\u001b[39margs\u001b[39m\u001b[39m\"\u001b[39m, args\u001b[39m=\u001b[39margs, kwargs\u001b[39m=\u001b[39mkwargs\n\u001b[1;32m    172\u001b[0m )\n\u001b[1;32m    173\u001b[0m \u001b[39mtry\u001b[39;00m:\n\u001b[0;32m--> 174\u001b[0m     ret \u001b[39m=\u001b[39m \u001b[39mself\u001b[39;49m\u001b[39m.\u001b[39;49mfn(\u001b[39m*\u001b[39;49margs, \u001b[39m*\u001b[39;49m\u001b[39m*\u001b[39;49mkwargs)\n\u001b[1;32m    175\u001b[0m \u001b[39mexcept\u001b[39;00m (\u001b[39mValueError\u001b[39;00m, \u001b[39mRuntimeError\u001b[39;00m) \u001b[39mas\u001b[39;00m e:\n\u001b[1;32m    176\u001b[0m     exc_type, exc_value, traceback \u001b[39m=\u001b[39m sys\u001b[39m.\u001b[39mexc_info()\n",
            "File \u001b[0;32m~/Desktop/bayesian-neural-net/venv/lib/python3.10/site-packages/pyro/poutine/messenger.py:12\u001b[0m, in \u001b[0;36m_context_wrap\u001b[0;34m(context, fn, *args, **kwargs)\u001b[0m\n\u001b[1;32m     10\u001b[0m \u001b[39mdef\u001b[39;00m \u001b[39m_context_wrap\u001b[39m(context, fn, \u001b[39m*\u001b[39margs, \u001b[39m*\u001b[39m\u001b[39m*\u001b[39mkwargs):\n\u001b[1;32m     11\u001b[0m     \u001b[39mwith\u001b[39;00m context:\n\u001b[0;32m---> 12\u001b[0m         \u001b[39mreturn\u001b[39;00m fn(\u001b[39m*\u001b[39;49margs, \u001b[39m*\u001b[39;49m\u001b[39m*\u001b[39;49mkwargs)\n",
            "File \u001b[0;32m~/Desktop/bayesian-neural-net/venv/lib/python3.10/site-packages/torch/autograd/grad_mode.py:27\u001b[0m, in \u001b[0;36m_DecoratorContextManager.__call__.<locals>.decorate_context\u001b[0;34m(*args, **kwargs)\u001b[0m\n\u001b[1;32m     24\u001b[0m \u001b[39m@functools\u001b[39m\u001b[39m.\u001b[39mwraps(func)\n\u001b[1;32m     25\u001b[0m \u001b[39mdef\u001b[39;00m \u001b[39mdecorate_context\u001b[39m(\u001b[39m*\u001b[39margs, \u001b[39m*\u001b[39m\u001b[39m*\u001b[39mkwargs):\n\u001b[1;32m     26\u001b[0m     \u001b[39mwith\u001b[39;00m \u001b[39mself\u001b[39m\u001b[39m.\u001b[39mclone():\n\u001b[0;32m---> 27\u001b[0m         \u001b[39mreturn\u001b[39;00m func(\u001b[39m*\u001b[39;49margs, \u001b[39m*\u001b[39;49m\u001b[39m*\u001b[39;49mkwargs)\n",
            "File \u001b[0;32m~/Desktop/bayesian-neural-net/venv/lib/python3.10/site-packages/pyro/poutine/messenger.py:12\u001b[0m, in \u001b[0;36m_context_wrap\u001b[0;34m(context, fn, *args, **kwargs)\u001b[0m\n\u001b[1;32m     10\u001b[0m \u001b[39mdef\u001b[39;00m \u001b[39m_context_wrap\u001b[39m(context, fn, \u001b[39m*\u001b[39margs, \u001b[39m*\u001b[39m\u001b[39m*\u001b[39mkwargs):\n\u001b[1;32m     11\u001b[0m     \u001b[39mwith\u001b[39;00m context:\n\u001b[0;32m---> 12\u001b[0m         \u001b[39mreturn\u001b[39;00m fn(\u001b[39m*\u001b[39;49margs, \u001b[39m*\u001b[39;49m\u001b[39m*\u001b[39;49mkwargs)\n",
            "File \u001b[0;32m~/Desktop/bayesian-neural-net/venv/lib/python3.10/site-packages/pyro/nn/module.py:427\u001b[0m, in \u001b[0;36mPyroModule.__call__\u001b[0;34m(self, *args, **kwargs)\u001b[0m\n\u001b[1;32m    425\u001b[0m \u001b[39mdef\u001b[39;00m \u001b[39m__call__\u001b[39m(\u001b[39mself\u001b[39m, \u001b[39m*\u001b[39margs, \u001b[39m*\u001b[39m\u001b[39m*\u001b[39mkwargs):\n\u001b[1;32m    426\u001b[0m     \u001b[39mwith\u001b[39;00m \u001b[39mself\u001b[39m\u001b[39m.\u001b[39m_pyro_context:\n\u001b[0;32m--> 427\u001b[0m         \u001b[39mreturn\u001b[39;00m \u001b[39msuper\u001b[39;49m()\u001b[39m.\u001b[39;49m\u001b[39m__call__\u001b[39;49m(\u001b[39m*\u001b[39;49margs, \u001b[39m*\u001b[39;49m\u001b[39m*\u001b[39;49mkwargs)\n",
            "File \u001b[0;32m~/Desktop/bayesian-neural-net/venv/lib/python3.10/site-packages/torch/nn/modules/module.py:1130\u001b[0m, in \u001b[0;36mModule._call_impl\u001b[0;34m(self, *input, **kwargs)\u001b[0m\n\u001b[1;32m   1126\u001b[0m \u001b[39m# If we don't have any hooks, we want to skip the rest of the logic in\u001b[39;00m\n\u001b[1;32m   1127\u001b[0m \u001b[39m# this function, and just call forward.\u001b[39;00m\n\u001b[1;32m   1128\u001b[0m \u001b[39mif\u001b[39;00m \u001b[39mnot\u001b[39;00m (\u001b[39mself\u001b[39m\u001b[39m.\u001b[39m_backward_hooks \u001b[39mor\u001b[39;00m \u001b[39mself\u001b[39m\u001b[39m.\u001b[39m_forward_hooks \u001b[39mor\u001b[39;00m \u001b[39mself\u001b[39m\u001b[39m.\u001b[39m_forward_pre_hooks \u001b[39mor\u001b[39;00m _global_backward_hooks\n\u001b[1;32m   1129\u001b[0m         \u001b[39mor\u001b[39;00m _global_forward_hooks \u001b[39mor\u001b[39;00m _global_forward_pre_hooks):\n\u001b[0;32m-> 1130\u001b[0m     \u001b[39mreturn\u001b[39;00m forward_call(\u001b[39m*\u001b[39;49m\u001b[39minput\u001b[39;49m, \u001b[39m*\u001b[39;49m\u001b[39m*\u001b[39;49mkwargs)\n\u001b[1;32m   1131\u001b[0m \u001b[39m# Do not call functions when jit is used\u001b[39;00m\n\u001b[1;32m   1132\u001b[0m full_backward_hooks, non_full_backward_hooks \u001b[39m=\u001b[39m [], []\n",
            "File \u001b[0;32m~/Desktop/bayesian-neural-net/venv/lib/python3.10/site-packages/pyro/infer/autoguide/guides.py:523\u001b[0m, in \u001b[0;36mAutoNormal.forward\u001b[0;34m(self, *args, **kwargs)\u001b[0m\n\u001b[1;32m    520\u001b[0m         stack\u001b[39m.\u001b[39menter_context(plates[frame\u001b[39m.\u001b[39mname])\n\u001b[1;32m    522\u001b[0m site_loc, site_scale \u001b[39m=\u001b[39m \u001b[39mself\u001b[39m\u001b[39m.\u001b[39m_get_loc_and_scale(name)\n\u001b[0;32m--> 523\u001b[0m unconstrained_latent \u001b[39m=\u001b[39m pyro\u001b[39m.\u001b[39;49msample(\n\u001b[1;32m    524\u001b[0m     name \u001b[39m+\u001b[39;49m \u001b[39m\"\u001b[39;49m\u001b[39m_unconstrained\u001b[39;49m\u001b[39m\"\u001b[39;49m,\n\u001b[1;32m    525\u001b[0m     dist\u001b[39m.\u001b[39;49mNormal(\n\u001b[1;32m    526\u001b[0m         site_loc,\n\u001b[1;32m    527\u001b[0m         site_scale,\n\u001b[1;32m    528\u001b[0m     )\u001b[39m.\u001b[39;49mto_event(\u001b[39mself\u001b[39;49m\u001b[39m.\u001b[39;49m_event_dims[name]),\n\u001b[1;32m    529\u001b[0m     infer\u001b[39m=\u001b[39;49m{\u001b[39m\"\u001b[39;49m\u001b[39mis_auxiliary\u001b[39;49m\u001b[39m\"\u001b[39;49m: \u001b[39mTrue\u001b[39;49;00m},\n\u001b[1;32m    530\u001b[0m )\n\u001b[1;32m    532\u001b[0m value \u001b[39m=\u001b[39m transform(unconstrained_latent)\n\u001b[1;32m    533\u001b[0m \u001b[39mif\u001b[39;00m poutine\u001b[39m.\u001b[39mget_mask() \u001b[39mis\u001b[39;00m \u001b[39mFalse\u001b[39;00m:\n",
            "File \u001b[0;32m~/Desktop/bayesian-neural-net/venv/lib/python3.10/site-packages/pyro/primitives.py:163\u001b[0m, in \u001b[0;36msample\u001b[0;34m(name, fn, *args, **kwargs)\u001b[0m\n\u001b[1;32m    146\u001b[0m msg \u001b[39m=\u001b[39m {\n\u001b[1;32m    147\u001b[0m     \u001b[39m\"\u001b[39m\u001b[39mtype\u001b[39m\u001b[39m\"\u001b[39m: \u001b[39m\"\u001b[39m\u001b[39msample\u001b[39m\u001b[39m\"\u001b[39m,\n\u001b[1;32m    148\u001b[0m     \u001b[39m\"\u001b[39m\u001b[39mname\u001b[39m\u001b[39m\"\u001b[39m: name,\n\u001b[0;32m   (...)\u001b[0m\n\u001b[1;32m    160\u001b[0m     \u001b[39m\"\u001b[39m\u001b[39mcontinuation\u001b[39m\u001b[39m\"\u001b[39m: \u001b[39mNone\u001b[39;00m,\n\u001b[1;32m    161\u001b[0m }\n\u001b[1;32m    162\u001b[0m \u001b[39m# apply the stack and return its return value\u001b[39;00m\n\u001b[0;32m--> 163\u001b[0m apply_stack(msg)\n\u001b[1;32m    164\u001b[0m \u001b[39mreturn\u001b[39;00m msg[\u001b[39m\"\u001b[39m\u001b[39mvalue\u001b[39m\u001b[39m\"\u001b[39m]\n",
            "File \u001b[0;32m~/Desktop/bayesian-neural-net/venv/lib/python3.10/site-packages/pyro/poutine/runtime.py:218\u001b[0m, in \u001b[0;36mapply_stack\u001b[0;34m(initial_msg)\u001b[0m\n\u001b[1;32m    215\u001b[0m     \u001b[39mif\u001b[39;00m msg[\u001b[39m\"\u001b[39m\u001b[39mstop\u001b[39m\u001b[39m\"\u001b[39m]:\n\u001b[1;32m    216\u001b[0m         \u001b[39mbreak\u001b[39;00m\n\u001b[0;32m--> 218\u001b[0m default_process_message(msg)\n\u001b[1;32m    220\u001b[0m \u001b[39mfor\u001b[39;00m frame \u001b[39min\u001b[39;00m stack[\u001b[39m-\u001b[39mpointer:]:\n\u001b[1;32m    221\u001b[0m     frame\u001b[39m.\u001b[39m_postprocess_message(msg)\n",
            "File \u001b[0;32m~/Desktop/bayesian-neural-net/venv/lib/python3.10/site-packages/pyro/poutine/runtime.py:179\u001b[0m, in \u001b[0;36mdefault_process_message\u001b[0;34m(msg)\u001b[0m\n\u001b[1;32m    176\u001b[0m     msg[\u001b[39m\"\u001b[39m\u001b[39mdone\u001b[39m\u001b[39m\"\u001b[39m] \u001b[39m=\u001b[39m \u001b[39mTrue\u001b[39;00m\n\u001b[1;32m    177\u001b[0m     \u001b[39mreturn\u001b[39;00m msg\n\u001b[0;32m--> 179\u001b[0m msg[\u001b[39m\"\u001b[39m\u001b[39mvalue\u001b[39m\u001b[39m\"\u001b[39m] \u001b[39m=\u001b[39m msg[\u001b[39m\"\u001b[39;49m\u001b[39mfn\u001b[39;49m\u001b[39m\"\u001b[39;49m](\u001b[39m*\u001b[39;49mmsg[\u001b[39m\"\u001b[39;49m\u001b[39margs\u001b[39;49m\u001b[39m\"\u001b[39;49m], \u001b[39m*\u001b[39;49m\u001b[39m*\u001b[39;49mmsg[\u001b[39m\"\u001b[39;49m\u001b[39mkwargs\u001b[39;49m\u001b[39m\"\u001b[39;49m])\n\u001b[1;32m    181\u001b[0m \u001b[39m# after fn has been called, update msg to prevent it from being called again.\u001b[39;00m\n\u001b[1;32m    182\u001b[0m msg[\u001b[39m\"\u001b[39m\u001b[39mdone\u001b[39m\u001b[39m\"\u001b[39m] \u001b[39m=\u001b[39m \u001b[39mTrue\u001b[39;00m\n",
            "File \u001b[0;32m~/Desktop/bayesian-neural-net/venv/lib/python3.10/site-packages/pyro/distributions/torch_distribution.py:48\u001b[0m, in \u001b[0;36mTorchDistributionMixin.__call__\u001b[0;34m(self, sample_shape)\u001b[0m\n\u001b[1;32m     30\u001b[0m \u001b[39mdef\u001b[39;00m \u001b[39m__call__\u001b[39m(\u001b[39mself\u001b[39m, sample_shape\u001b[39m=\u001b[39mtorch\u001b[39m.\u001b[39mSize()):\n\u001b[1;32m     31\u001b[0m     \u001b[39m\"\"\"\u001b[39;00m\n\u001b[1;32m     32\u001b[0m \u001b[39m    Samples a random value.\u001b[39;00m\n\u001b[1;32m     33\u001b[0m \n\u001b[0;32m   (...)\u001b[0m\n\u001b[1;32m     45\u001b[0m \u001b[39m    :rtype: torch.Tensor\u001b[39;00m\n\u001b[1;32m     46\u001b[0m \u001b[39m    \"\"\"\u001b[39;00m\n\u001b[1;32m     47\u001b[0m     \u001b[39mreturn\u001b[39;00m (\n\u001b[0;32m---> 48\u001b[0m         \u001b[39mself\u001b[39;49m\u001b[39m.\u001b[39;49mrsample(sample_shape)\n\u001b[1;32m     49\u001b[0m         \u001b[39mif\u001b[39;00m \u001b[39mself\u001b[39m\u001b[39m.\u001b[39mhas_rsample\n\u001b[1;32m     50\u001b[0m         \u001b[39melse\u001b[39;00m \u001b[39mself\u001b[39m\u001b[39m.\u001b[39msample(sample_shape)\n\u001b[1;32m     51\u001b[0m     )\n",
            "File \u001b[0;32m~/Desktop/bayesian-neural-net/venv/lib/python3.10/site-packages/torch/distributions/independent.py:92\u001b[0m, in \u001b[0;36mIndependent.rsample\u001b[0;34m(self, sample_shape)\u001b[0m\n\u001b[1;32m     91\u001b[0m \u001b[39mdef\u001b[39;00m \u001b[39mrsample\u001b[39m(\u001b[39mself\u001b[39m, sample_shape\u001b[39m=\u001b[39mtorch\u001b[39m.\u001b[39mSize()):\n\u001b[0;32m---> 92\u001b[0m     \u001b[39mreturn\u001b[39;00m \u001b[39mself\u001b[39;49m\u001b[39m.\u001b[39;49mbase_dist\u001b[39m.\u001b[39;49mrsample(sample_shape)\n",
            "File \u001b[0;32m~/Desktop/bayesian-neural-net/venv/lib/python3.10/site-packages/torch/distributions/normal.py:72\u001b[0m, in \u001b[0;36mNormal.rsample\u001b[0;34m(self, sample_shape)\u001b[0m\n\u001b[1;32m     70\u001b[0m \u001b[39mdef\u001b[39;00m \u001b[39mrsample\u001b[39m(\u001b[39mself\u001b[39m, sample_shape\u001b[39m=\u001b[39mtorch\u001b[39m.\u001b[39mSize()):\n\u001b[1;32m     71\u001b[0m     shape \u001b[39m=\u001b[39m \u001b[39mself\u001b[39m\u001b[39m.\u001b[39m_extended_shape(sample_shape)\n\u001b[0;32m---> 72\u001b[0m     eps \u001b[39m=\u001b[39m _standard_normal(shape, dtype\u001b[39m=\u001b[39;49m\u001b[39mself\u001b[39;49m\u001b[39m.\u001b[39;49mloc\u001b[39m.\u001b[39;49mdtype, device\u001b[39m=\u001b[39;49m\u001b[39mself\u001b[39;49m\u001b[39m.\u001b[39;49mloc\u001b[39m.\u001b[39;49mdevice)\n\u001b[1;32m     73\u001b[0m     \u001b[39mreturn\u001b[39;00m \u001b[39mself\u001b[39m\u001b[39m.\u001b[39mloc \u001b[39m+\u001b[39m eps \u001b[39m*\u001b[39m \u001b[39mself\u001b[39m\u001b[39m.\u001b[39mscale\n",
            "File \u001b[0;32m~/Desktop/bayesian-neural-net/venv/lib/python3.10/site-packages/torch/distributions/utils.py:48\u001b[0m, in \u001b[0;36m_standard_normal\u001b[0;34m(shape, dtype, device)\u001b[0m\n\u001b[1;32m     44\u001b[0m \u001b[39mif\u001b[39;00m torch\u001b[39m.\u001b[39m_C\u001b[39m.\u001b[39m_get_tracing_state():\n\u001b[1;32m     45\u001b[0m     \u001b[39m# [JIT WORKAROUND] lack of support for .normal_()\u001b[39;00m\n\u001b[1;32m     46\u001b[0m     \u001b[39mreturn\u001b[39;00m torch\u001b[39m.\u001b[39mnormal(torch\u001b[39m.\u001b[39mzeros(shape, dtype\u001b[39m=\u001b[39mdtype, device\u001b[39m=\u001b[39mdevice),\n\u001b[1;32m     47\u001b[0m                         torch\u001b[39m.\u001b[39mones(shape, dtype\u001b[39m=\u001b[39mdtype, device\u001b[39m=\u001b[39mdevice))\n\u001b[0;32m---> 48\u001b[0m \u001b[39mreturn\u001b[39;00m torch\u001b[39m.\u001b[39;49mempty(shape, dtype\u001b[39m=\u001b[39;49mdtype, device\u001b[39m=\u001b[39;49mdevice)\u001b[39m.\u001b[39;49mnormal_()\n",
            "\u001b[0;31mKeyboardInterrupt\u001b[0m: "
          ]
        }
      ],
      "source": [
        "cifar_dataset = CIFAR10(\n",
        "    root = os.getcwd(), \n",
        "    train = False, \n",
        "    download = True, \n",
        "    transform = transforms.Compose(\n",
        "        [\n",
        "          transforms.ToTensor(), \n",
        "          transforms.Resize((28, 28)),\n",
        "          transforms.Grayscale(num_output_channels=1),\n",
        "          transforms.Normalize((0.5, 0.5, 0.5), (0.5, 0.5, 0.5))\n",
        "        ]\n",
        "    )\n",
        ")\n",
        "\n",
        "display_inference(NUM_TO_DISPLAY, *calculate_inference(NUM_TO_DISPLAY, cifar_dataset, pred))"
      ]
    }
  ],
  "metadata": {
    "colab": {
      "collapsed_sections": [],
      "provenance": []
    },
    "kernelspec": {
      "display_name": "Python 3.10.7 ('venv': venv)",
      "language": "python",
      "name": "python3"
    },
    "language_info": {
      "codemirror_mode": {
        "name": "ipython",
        "version": 3
      },
      "file_extension": ".py",
      "mimetype": "text/x-python",
      "name": "python",
      "nbconvert_exporter": "python",
      "pygments_lexer": "ipython3",
      "version": "3.10.7"
    },
    "vscode": {
      "interpreter": {
        "hash": "e98efa19b07fabb7c7bc6f4d2fb3064edf62c01c27e6f30751ee772aa4568cce"
      }
    }
  },
  "nbformat": 4,
  "nbformat_minor": 0
}
