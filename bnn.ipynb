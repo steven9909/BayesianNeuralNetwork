{
  "cells": [
    {
      "cell_type": "code",
      "execution_count": 12,
      "metadata": {
        "colab": {
          "base_uri": "https://localhost:8080/"
        },
        "id": "gLIyDF_o0B_j",
        "outputId": "98a88151-f0ab-4514-c8db-8d8f7663bb39"
      },
      "outputs": [
        {
          "name": "stdout",
          "output_type": "stream",
          "text": [
            "Requirement already satisfied: torchvision in ./venv/lib/python3.10/site-packages (0.13.1)\n",
            "Requirement already satisfied: pillow!=8.3.*,>=5.3.0 in ./venv/lib/python3.10/site-packages (from torchvision) (9.2.0)\n",
            "Requirement already satisfied: requests in ./venv/lib/python3.10/site-packages (from torchvision) (2.28.1)\n",
            "Requirement already satisfied: numpy in ./venv/lib/python3.10/site-packages (from torchvision) (1.23.4)\n",
            "Requirement already satisfied: torch in ./venv/lib/python3.10/site-packages (from torchvision) (1.12.1)\n",
            "Requirement already satisfied: typing-extensions in ./venv/lib/python3.10/site-packages (from torchvision) (4.4.0)\n",
            "Requirement already satisfied: certifi>=2017.4.17 in ./venv/lib/python3.10/site-packages (from requests->torchvision) (2022.9.24)\n",
            "Requirement already satisfied: idna<4,>=2.5 in ./venv/lib/python3.10/site-packages (from requests->torchvision) (3.4)\n",
            "Requirement already satisfied: charset-normalizer<3,>=2 in ./venv/lib/python3.10/site-packages (from requests->torchvision) (2.1.1)\n",
            "Requirement already satisfied: urllib3<1.27,>=1.21.1 in ./venv/lib/python3.10/site-packages (from requests->torchvision) (1.26.12)\n",
            "\n",
            "\u001b[1m[\u001b[0m\u001b[34;49mnotice\u001b[0m\u001b[1;39;49m]\u001b[0m\u001b[39;49m A new release of pip available: \u001b[0m\u001b[31;49m22.2.2\u001b[0m\u001b[39;49m -> \u001b[0m\u001b[32;49m22.3\u001b[0m\n",
            "\u001b[1m[\u001b[0m\u001b[34;49mnotice\u001b[0m\u001b[1;39;49m]\u001b[0m\u001b[39;49m To update, run: \u001b[0m\u001b[32;49mpip install --upgrade pip\u001b[0m\n",
            "Requirement already satisfied: pyro-ppl in ./venv/lib/python3.10/site-packages (1.8.2)\n",
            "Requirement already satisfied: pyro-api>=0.1.1 in ./venv/lib/python3.10/site-packages (from pyro-ppl) (0.1.2)\n",
            "Requirement already satisfied: torch>=1.11.0 in ./venv/lib/python3.10/site-packages (from pyro-ppl) (1.12.1)\n",
            "Requirement already satisfied: numpy>=1.7 in ./venv/lib/python3.10/site-packages (from pyro-ppl) (1.23.4)\n",
            "Requirement already satisfied: opt-einsum>=2.3.2 in ./venv/lib/python3.10/site-packages (from pyro-ppl) (3.3.0)\n",
            "Requirement already satisfied: tqdm>=4.36 in ./venv/lib/python3.10/site-packages (from pyro-ppl) (4.64.1)\n",
            "Requirement already satisfied: typing-extensions in ./venv/lib/python3.10/site-packages (from torch>=1.11.0->pyro-ppl) (4.4.0)\n",
            "\n",
            "\u001b[1m[\u001b[0m\u001b[34;49mnotice\u001b[0m\u001b[1;39;49m]\u001b[0m\u001b[39;49m A new release of pip available: \u001b[0m\u001b[31;49m22.2.2\u001b[0m\u001b[39;49m -> \u001b[0m\u001b[32;49m22.3\u001b[0m\n",
            "\u001b[1m[\u001b[0m\u001b[34;49mnotice\u001b[0m\u001b[1;39;49m]\u001b[0m\u001b[39;49m To update, run: \u001b[0m\u001b[32;49mpip install --upgrade pip\u001b[0m\n",
            "Collecting matplotlib\n",
            "  Downloading matplotlib-3.6.1-cp310-cp310-macosx_11_0_arm64.whl (7.2 MB)\n",
            "\u001b[2K     \u001b[90m━━━━━━━━━━━━━━━━━━━━━━━━━━━━━━━━━━━━━━━━\u001b[0m \u001b[32m7.2/7.2 MB\u001b[0m \u001b[31m28.8 MB/s\u001b[0m eta \u001b[36m0:00:00\u001b[0ma \u001b[36m0:00:01\u001b[0m\n",
            "\u001b[?25hRequirement already satisfied: python-dateutil>=2.7 in ./venv/lib/python3.10/site-packages (from matplotlib) (2.8.2)\n",
            "Requirement already satisfied: pillow>=6.2.0 in ./venv/lib/python3.10/site-packages (from matplotlib) (9.2.0)\n",
            "Collecting contourpy>=1.0.1\n",
            "  Downloading contourpy-1.0.5-cp310-cp310-macosx_11_0_arm64.whl (226 kB)\n",
            "\u001b[2K     \u001b[90m━━━━━━━━━━━━━━━━━━━━━━━━━━━━━━━━━━━━━━━\u001b[0m \u001b[32m226.0/226.0 kB\u001b[0m \u001b[31m7.1 MB/s\u001b[0m eta \u001b[36m0:00:00\u001b[0m\n",
            "\u001b[?25hRequirement already satisfied: packaging>=20.0 in ./venv/lib/python3.10/site-packages (from matplotlib) (21.3)\n",
            "Collecting fonttools>=4.22.0\n",
            "  Downloading fonttools-4.37.4-py3-none-any.whl (960 kB)\n",
            "\u001b[2K     \u001b[90m━━━━━━━━━━━━━━━━━━━━━━━━━━━━━━━━━━━━━━\u001b[0m \u001b[32m960.8/960.8 kB\u001b[0m \u001b[31m24.5 MB/s\u001b[0m eta \u001b[36m0:00:00\u001b[0m00:01\u001b[0m\n",
            "\u001b[?25hRequirement already satisfied: pyparsing>=2.2.1 in ./venv/lib/python3.10/site-packages (from matplotlib) (3.0.9)\n",
            "Requirement already satisfied: numpy>=1.19 in ./venv/lib/python3.10/site-packages (from matplotlib) (1.23.4)\n",
            "Collecting kiwisolver>=1.0.1\n",
            "  Downloading kiwisolver-1.4.4-cp310-cp310-macosx_11_0_arm64.whl (63 kB)\n",
            "\u001b[2K     \u001b[90m━━━━━━━━━━━━━━━━━━━━━━━━━━━━━━━━━━━━━━━━\u001b[0m \u001b[32m63.2/63.2 kB\u001b[0m \u001b[31m2.3 MB/s\u001b[0m eta \u001b[36m0:00:00\u001b[0m\n",
            "\u001b[?25hCollecting cycler>=0.10\n",
            "  Downloading cycler-0.11.0-py3-none-any.whl (6.4 kB)\n",
            "Requirement already satisfied: six>=1.5 in ./venv/lib/python3.10/site-packages (from python-dateutil>=2.7->matplotlib) (1.16.0)\n",
            "Installing collected packages: kiwisolver, fonttools, cycler, contourpy, matplotlib\n",
            "Successfully installed contourpy-1.0.5 cycler-0.11.0 fonttools-4.37.4 kiwisolver-1.4.4 matplotlib-3.6.1\n",
            "\n",
            "\u001b[1m[\u001b[0m\u001b[34;49mnotice\u001b[0m\u001b[1;39;49m]\u001b[0m\u001b[39;49m A new release of pip available: \u001b[0m\u001b[31;49m22.2.2\u001b[0m\u001b[39;49m -> \u001b[0m\u001b[32;49m22.3\u001b[0m\n",
            "\u001b[1m[\u001b[0m\u001b[34;49mnotice\u001b[0m\u001b[1;39;49m]\u001b[0m\u001b[39;49m To update, run: \u001b[0m\u001b[32;49mpip install --upgrade pip\u001b[0m\n"
          ]
        }
      ],
      "source": [
        "!pip install torchvision\n",
        "!pip install pyro-ppl\n",
        "!pip install matplotlib"
      ]
    },
    {
      "cell_type": "markdown",
      "metadata": {
        "id": "4kUxldnljQPk"
      },
      "source": [
        "# Bayesian Neural Network"
      ]
    },
    {
      "cell_type": "code",
      "execution_count": 13,
      "metadata": {
        "id": "ah6JWSaCjiH2"
      },
      "outputs": [
        {
          "name": "stderr",
          "output_type": "stream",
          "text": [
            "Fontconfig warning: ignoring UTF-8: not a valid region tag\n"
          ]
        }
      ],
      "source": [
        "from pyro.nn import PyroModule\n",
        "from pyro.nn import PyroSample\n",
        "import pyro\n",
        "import pyro.distributions as dist\n",
        "import torch\n",
        "import torch.nn.functional as F\n",
        "import torch.nn as nn\n",
        "import os\n",
        "import matplotlib.pyplot as plt\n",
        "from torch.nn import ReLU\n",
        "from torch.nn import Identity\n",
        "from torch.nn import Sequential\n",
        "from torch.nn import Softmax, LogSoftmax\n",
        "from torch import randn\n",
        "from torchvision.datasets import MNIST\n",
        "from torch.utils.data import DataLoader\n",
        "from pyro.infer.autoguide import AutoNormal\n",
        "from pyro.infer import SVI, Trace_ELBO, Predictive\n",
        "from torchvision import transforms"
      ]
    },
    {
      "cell_type": "code",
      "execution_count": 5,
      "metadata": {
        "id": "gZNUKsVHjSof"
      },
      "outputs": [],
      "source": [
        "class BayesianMLP(PyroModule):\n",
        "  def __init__(self, input_size:int = 784, output_size:int = 10):\n",
        "\n",
        "    super().__init__()\n",
        "    self.fc1 = PyroModule[nn.Linear](1024, input_size)\n",
        "    self.fc1.weight = PyroSample(dist.Normal(0., 1.).expand([1024, input_size]).to_event(2))\n",
        "    self.fc1.bias = PyroSample(dist.Normal(0., 1.).expand([1024]).to_event(1))\n",
        "    self.fc2 = PyroModule[nn.Linear](output_size, 1024)\n",
        "    self.fc2.weight = PyroSample(dist.Normal(0., 1.).expand([output_size, 1024]).to_event(2))\n",
        "    self.fc2.bias = PyroSample(dist.Normal(0., 1.).expand([output_size]).to_event(1))\n",
        "    self.relu = nn.ReLU()\n",
        "    self.softmax = LogSoftmax(dim=1)\n",
        "  \n",
        "  def forward(self, input, output=None):\n",
        "    out = self.fc1(input)\n",
        "    out = self.relu(out)\n",
        "    out = self.fc2(out)\n",
        "\n",
        "    logits = self.softmax(out)\n",
        "\n",
        "    with pyro.plate(\"data\", out.shape[0]):\n",
        "        return pyro.sample(\"obs\", dist.Categorical(logits=logits), obs=output)"
      ]
    },
    {
      "cell_type": "code",
      "execution_count": 9,
      "metadata": {
        "id": "Bi-GEw9MzkM1"
      },
      "outputs": [
        {
          "name": "stdout",
          "output_type": "stream",
          "text": [
            "Downloading http://yann.lecun.com/exdb/mnist/train-images-idx3-ubyte.gz\n",
            "Downloading http://yann.lecun.com/exdb/mnist/train-images-idx3-ubyte.gz to /Users/stevenhyun/Desktop/bayesian-neural-net/MNIST/raw/train-images-idx3-ubyte.gz\n"
          ]
        },
        {
          "name": "stderr",
          "output_type": "stream",
          "text": [
            "100%|██████████| 9912422/9912422 [00:00<00:00, 35336518.80it/s]\n"
          ]
        },
        {
          "name": "stdout",
          "output_type": "stream",
          "text": [
            "Extracting /Users/stevenhyun/Desktop/bayesian-neural-net/MNIST/raw/train-images-idx3-ubyte.gz to /Users/stevenhyun/Desktop/bayesian-neural-net/MNIST/raw\n",
            "\n",
            "Downloading http://yann.lecun.com/exdb/mnist/train-labels-idx1-ubyte.gz\n",
            "Downloading http://yann.lecun.com/exdb/mnist/train-labels-idx1-ubyte.gz to /Users/stevenhyun/Desktop/bayesian-neural-net/MNIST/raw/train-labels-idx1-ubyte.gz\n"
          ]
        },
        {
          "name": "stderr",
          "output_type": "stream",
          "text": [
            "100%|██████████| 28881/28881 [00:00<00:00, 5797075.70it/s]"
          ]
        },
        {
          "name": "stdout",
          "output_type": "stream",
          "text": [
            "Extracting /Users/stevenhyun/Desktop/bayesian-neural-net/MNIST/raw/train-labels-idx1-ubyte.gz to /Users/stevenhyun/Desktop/bayesian-neural-net/MNIST/raw\n",
            "\n",
            "Downloading http://yann.lecun.com/exdb/mnist/t10k-images-idx3-ubyte.gz\n",
            "Downloading http://yann.lecun.com/exdb/mnist/t10k-images-idx3-ubyte.gz to /Users/stevenhyun/Desktop/bayesian-neural-net/MNIST/raw/t10k-images-idx3-ubyte.gz\n"
          ]
        },
        {
          "name": "stderr",
          "output_type": "stream",
          "text": [
            "\n",
            "100%|██████████| 1648877/1648877 [00:00<00:00, 21176390.21it/s]\n"
          ]
        },
        {
          "name": "stdout",
          "output_type": "stream",
          "text": [
            "Extracting /Users/stevenhyun/Desktop/bayesian-neural-net/MNIST/raw/t10k-images-idx3-ubyte.gz to /Users/stevenhyun/Desktop/bayesian-neural-net/MNIST/raw\n",
            "\n",
            "Downloading http://yann.lecun.com/exdb/mnist/t10k-labels-idx1-ubyte.gz\n",
            "Downloading http://yann.lecun.com/exdb/mnist/t10k-labels-idx1-ubyte.gz to /Users/stevenhyun/Desktop/bayesian-neural-net/MNIST/raw/t10k-labels-idx1-ubyte.gz\n"
          ]
        },
        {
          "name": "stderr",
          "output_type": "stream",
          "text": [
            "100%|██████████| 4542/4542 [00:00<00:00, 3636985.26it/s]"
          ]
        },
        {
          "name": "stdout",
          "output_type": "stream",
          "text": [
            "Extracting /Users/stevenhyun/Desktop/bayesian-neural-net/MNIST/raw/t10k-labels-idx1-ubyte.gz to /Users/stevenhyun/Desktop/bayesian-neural-net/MNIST/raw\n",
            "\n"
          ]
        },
        {
          "name": "stderr",
          "output_type": "stream",
          "text": [
            "\n"
          ]
        }
      ],
      "source": [
        "train_dataset = MNIST(\n",
        "    root = os.getcwd(), \n",
        "    train = True, \n",
        "    download = True, \n",
        "    transform = transforms.Compose(\n",
        "        [\n",
        "          transforms.ToTensor(), \n",
        "          transforms.Normalize((0.1307,), (0.3081,))\n",
        "        ]\n",
        "    )\n",
        ")\n",
        "\n",
        "train_loader = DataLoader(train_dataset, 128, shuffle = True)\n",
        "\n",
        "test_dataset = MNIST(\n",
        "    root = os.getcwd(), \n",
        "    train = False, \n",
        "    download = True, \n",
        "    transform = transforms.Compose(\n",
        "        [\n",
        "          transforms.ToTensor(), \n",
        "          transforms.Normalize((0.1307,), (0.3081,))\n",
        "        ]\n",
        "    )\n",
        ")"
      ]
    },
    {
      "cell_type": "code",
      "execution_count": 10,
      "metadata": {
        "colab": {
          "base_uri": "https://localhost:8080/"
        },
        "id": "RGRTwzTf8u_w",
        "outputId": "9adeb85c-5a0e-4228-e0ce-5c55f38595fe"
      },
      "outputs": [
        {
          "name": "stdout",
          "output_type": "stream",
          "text": [
            "At epoch: 0 the loss was: 609480181.6037489\n",
            "At epoch: 1 the loss was: 452915638.7762163\n",
            "At epoch: 2 the loss was: 312217785.6318756\n",
            "At epoch: 3 the loss was: 195731474.15185356\n",
            "At epoch: 4 the loss was: 110490231.5963028\n",
            "At epoch: 5 the loss was: 57503042.32086569\n",
            "At epoch: 6 the loss was: 29713795.343616724\n",
            "At epoch: 7 the loss was: 16868630.895879745\n",
            "At epoch: 8 the loss was: 11165287.688986778\n",
            "At epoch: 9 the loss was: 8561906.910837173\n"
          ]
        }
      ],
      "source": [
        "model = BayesianMLP()\n",
        "guide = AutoNormal(model)\n",
        "adam = pyro.optim.Adam({\"lr\": 0.001})\n",
        "svi = SVI(model, guide, adam, loss=Trace_ELBO())\n",
        "\n",
        "EPOCH = 10\n",
        "\n",
        "pyro.clear_param_store()\n",
        "\n",
        "for e in range(EPOCH):\n",
        "  loss = 0\n",
        "  for data in train_loader:\n",
        "    x = torch.flatten(data[0], start_dim = 1)\n",
        "    y = data[1]\n",
        "    loss += svi.step(x, y)\n",
        "   \n",
        "  epoch_loss = loss / len(train_loader.dataset)\n",
        "  print(f\"At epoch: {e} the loss was: {loss}\")"
      ]
    },
    {
      "cell_type": "code",
      "execution_count": 14,
      "metadata": {
        "colab": {
          "base_uri": "https://localhost:8080/",
          "height": 418
        },
        "id": "9icqDZOaDKtW",
        "outputId": "8218999b-d6b6-4b2d-9f6c-c69aa9852ae7"
      },
      "outputs": [
        {
          "name": "stdout",
          "output_type": "stream",
          "text": [
            "[6.984]\n",
            "[2.708]\n",
            "[1.218]\n",
            "[0.098]\n",
            "[4.778]\n"
          ]
        },
        {
          "data": {
            "image/png": "[encoded data removed]",
            "text/plain": [
              "<Figure size 640x480 with 5 Axes>"
            ]
          },
          "metadata": {},
          "output_type": "display_data"
        }
      ],
      "source": [
        "NUM_TO_DISPLAY = 5\n",
        "\n",
        "f, axes = plt.subplots(NUM_TO_DISPLAY, 1)\n",
        "\n",
        "pred = Predictive(model, guide=guide, num_samples=500)\n",
        "\n",
        "for i, test_data in enumerate(test_dataset):\n",
        "  if i >= NUM_TO_DISPLAY:\n",
        "    break\n",
        "  axes[i].set_axis_off()\n",
        "  axes[i].imshow(test_data[0].squeeze(0), cmap = 'gray')\n",
        "  prediction = pred(test_data[0].flatten(0).unsqueeze(0))\n",
        "  print(prediction['obs'].T.numpy().mean(axis = 1))"
      ]
    }
  ],
  "metadata": {
    "colab": {
      "collapsed_sections": [],
      "provenance": []
    },
    "kernelspec": {
      "display_name": "Python 3.10.7 ('venv': venv)",
      "language": "python",
      "name": "python3"
    },
    "language_info": {
      "codemirror_mode": {
        "name": "ipython",
        "version": 3
      },
      "file_extension": ".py",
      "mimetype": "text/x-python",
      "name": "python",
      "nbconvert_exporter": "python",
      "pygments_lexer": "ipython3",
      "version": "3.10.7"
    },
    "vscode": {
      "interpreter": {
        "hash": "e98efa19b07fabb7c7bc6f4d2fb3064edf62c01c27e6f30751ee772aa4568cce"
      }
    }
  },
  "nbformat": 4,
  "nbformat_minor": 0
}
