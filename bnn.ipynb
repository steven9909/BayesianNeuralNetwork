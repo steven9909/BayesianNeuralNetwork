{
  "cells": [
    {
      "cell_type": "code",
      "execution_count": 16,
      "metadata": {
        "colab": {
          "base_uri": "https://localhost:8080/"
        },
        "id": "gLIyDF_o0B_j",
        "outputId": "98a88151-f0ab-4514-c8db-8d8f7663bb39"
      },
      "outputs": [
        {
          "name": "stdout",
          "output_type": "stream",
          "text": [
            "Requirement already satisfied: torchvision in ./venv/lib/python3.10/site-packages (0.13.1)\n",
            "Requirement already satisfied: torch in ./venv/lib/python3.10/site-packages (from torchvision) (1.12.1)\n",
            "Requirement already satisfied: pillow!=8.3.*,>=5.3.0 in ./venv/lib/python3.10/site-packages (from torchvision) (9.2.0)\n",
            "Requirement already satisfied: numpy in ./venv/lib/python3.10/site-packages (from torchvision) (1.23.4)\n",
            "Requirement already satisfied: typing-extensions in ./venv/lib/python3.10/site-packages (from torchvision) (4.4.0)\n",
            "Requirement already satisfied: requests in ./venv/lib/python3.10/site-packages (from torchvision) (2.28.1)\n",
            "Requirement already satisfied: certifi>=2017.4.17 in ./venv/lib/python3.10/site-packages (from requests->torchvision) (2022.9.24)\n",
            "Requirement already satisfied: idna<4,>=2.5 in ./venv/lib/python3.10/site-packages (from requests->torchvision) (3.4)\n",
            "Requirement already satisfied: charset-normalizer<3,>=2 in ./venv/lib/python3.10/site-packages (from requests->torchvision) (2.1.1)\n",
            "Requirement already satisfied: urllib3<1.27,>=1.21.1 in ./venv/lib/python3.10/site-packages (from requests->torchvision) (1.26.12)\n",
            "\n",
            "\u001b[1m[\u001b[0m\u001b[34;49mnotice\u001b[0m\u001b[1;39;49m]\u001b[0m\u001b[39;49m A new release of pip available: \u001b[0m\u001b[31;49m22.2.2\u001b[0m\u001b[39;49m -> \u001b[0m\u001b[32;49m22.3\u001b[0m\n",
            "\u001b[1m[\u001b[0m\u001b[34;49mnotice\u001b[0m\u001b[1;39;49m]\u001b[0m\u001b[39;49m To update, run: \u001b[0m\u001b[32;49mpip install --upgrade pip\u001b[0m\n",
            "Requirement already satisfied: pyro-ppl in ./venv/lib/python3.10/site-packages (1.8.2)\n",
            "Requirement already satisfied: pyro-api>=0.1.1 in ./venv/lib/python3.10/site-packages (from pyro-ppl) (0.1.2)\n",
            "Requirement already satisfied: numpy>=1.7 in ./venv/lib/python3.10/site-packages (from pyro-ppl) (1.23.4)\n",
            "Requirement already satisfied: tqdm>=4.36 in ./venv/lib/python3.10/site-packages (from pyro-ppl) (4.64.1)\n",
            "Requirement already satisfied: opt-einsum>=2.3.2 in ./venv/lib/python3.10/site-packages (from pyro-ppl) (3.3.0)\n",
            "Requirement already satisfied: torch>=1.11.0 in ./venv/lib/python3.10/site-packages (from pyro-ppl) (1.12.1)\n",
            "Requirement already satisfied: typing-extensions in ./venv/lib/python3.10/site-packages (from torch>=1.11.0->pyro-ppl) (4.4.0)\n",
            "\n",
            "\u001b[1m[\u001b[0m\u001b[34;49mnotice\u001b[0m\u001b[1;39;49m]\u001b[0m\u001b[39;49m A new release of pip available: \u001b[0m\u001b[31;49m22.2.2\u001b[0m\u001b[39;49m -> \u001b[0m\u001b[32;49m22.3\u001b[0m\n",
            "\u001b[1m[\u001b[0m\u001b[34;49mnotice\u001b[0m\u001b[1;39;49m]\u001b[0m\u001b[39;49m To update, run: \u001b[0m\u001b[32;49mpip install --upgrade pip\u001b[0m\n",
            "Requirement already satisfied: matplotlib in ./venv/lib/python3.10/site-packages (3.6.1)\n",
            "Requirement already satisfied: python-dateutil>=2.7 in ./venv/lib/python3.10/site-packages (from matplotlib) (2.8.2)\n",
            "Requirement already satisfied: contourpy>=1.0.1 in ./venv/lib/python3.10/site-packages (from matplotlib) (1.0.5)\n",
            "Requirement already satisfied: kiwisolver>=1.0.1 in ./venv/lib/python3.10/site-packages (from matplotlib) (1.4.4)\n",
            "Requirement already satisfied: numpy>=1.19 in ./venv/lib/python3.10/site-packages (from matplotlib) (1.23.4)\n",
            "Requirement already satisfied: cycler>=0.10 in ./venv/lib/python3.10/site-packages (from matplotlib) (0.11.0)\n",
            "Requirement already satisfied: packaging>=20.0 in ./venv/lib/python3.10/site-packages (from matplotlib) (21.3)\n",
            "Requirement already satisfied: fonttools>=4.22.0 in ./venv/lib/python3.10/site-packages (from matplotlib) (4.37.4)\n",
            "Requirement already satisfied: pyparsing>=2.2.1 in ./venv/lib/python3.10/site-packages (from matplotlib) (3.0.9)\n",
            "Requirement already satisfied: pillow>=6.2.0 in ./venv/lib/python3.10/site-packages (from matplotlib) (9.2.0)\n",
            "Requirement already satisfied: six>=1.5 in ./venv/lib/python3.10/site-packages (from python-dateutil>=2.7->matplotlib) (1.16.0)\n",
            "\n",
            "\u001b[1m[\u001b[0m\u001b[34;49mnotice\u001b[0m\u001b[1;39;49m]\u001b[0m\u001b[39;49m A new release of pip available: \u001b[0m\u001b[31;49m22.2.2\u001b[0m\u001b[39;49m -> \u001b[0m\u001b[32;49m22.3\u001b[0m\n",
            "\u001b[1m[\u001b[0m\u001b[34;49mnotice\u001b[0m\u001b[1;39;49m]\u001b[0m\u001b[39;49m To update, run: \u001b[0m\u001b[32;49mpip install --upgrade pip\u001b[0m\n",
            "Requirement already satisfied: tqdm in ./venv/lib/python3.10/site-packages (4.64.1)\n",
            "\n",
            "\u001b[1m[\u001b[0m\u001b[34;49mnotice\u001b[0m\u001b[1;39;49m]\u001b[0m\u001b[39;49m A new release of pip available: \u001b[0m\u001b[31;49m22.2.2\u001b[0m\u001b[39;49m -> \u001b[0m\u001b[32;49m22.3\u001b[0m\n",
            "\u001b[1m[\u001b[0m\u001b[34;49mnotice\u001b[0m\u001b[1;39;49m]\u001b[0m\u001b[39;49m To update, run: \u001b[0m\u001b[32;49mpip install --upgrade pip\u001b[0m\n"
          ]
        }
      ],
      "source": [
        "!pip install torchvision\n",
        "!pip install pyro-ppl\n",
        "!pip install matplotlib\n",
        "!pip install tqdm"
      ]
    },
    {
      "cell_type": "markdown",
      "metadata": {
        "id": "4kUxldnljQPk"
      },
      "source": [
        "# Bayesian Neural Network"
      ]
    },
    {
      "cell_type": "markdown",
      "metadata": {},
      "source": [
        "Basic idea is to calculate the posterior using:\n",
        "\n",
        "$\\mathrm{P(H|D)}=\\frac{P(D|H)P(H)}{P(D)}$ = $\\frac{P(D, H)}{\\int_H P(D, H^{'})\\mathrm{d}H^{'}}$\n",
        "\n",
        "where D is the dataset and H is the model parameter.\n",
        "\n",
        "P(D|H) is easy to calculate since we know the prior P(H). And the prior P(H) is a known quantity beforehand, so the only quantity that requires a lot of work to find is the denominator. \n",
        "\n",
        "But the integral or evidence is very hard to calculate since we need to calculate the joint probability $P(D, H^{'})$ over all model parameters H which is continuous and infinite. \n",
        "\n",
        "Therefore, we need a way of calculating either this integral or the whole posterior in a fast and efficient manner.\n",
        "\n",
        "To cauclate the evidence, we need an efficient sampling method that is able to approximate the posterior. Two methods that are most commonly used is Markov Chain Monte Carlo method or variational inference.\n",
        "\n",
        "MCMC is a method where you construct a Markov chain which is just a sequence of random samples S"
      ]
    },
    {
      "cell_type": "code",
      "execution_count": 66,
      "metadata": {
        "id": "ah6JWSaCjiH2"
      },
      "outputs": [],
      "source": [
        "import os\n",
        "\n",
        "import matplotlib.pyplot as plt\n",
        "import pyro\n",
        "import pyro.distributions as dist\n",
        "import torch\n",
        "import torch.nn as nn\n",
        "import torch.nn.functional as F\n",
        "import random\n",
        "from typing import List\n",
        "from pyro.infer import SVI, Predictive, Trace_ELBO\n",
        "from pyro.infer.autoguide import AutoNormal\n",
        "from pyro.nn import PyroModule, PyroSample\n",
        "from torch import randn\n",
        "from torch.nn import Identity, LogSoftmax, ReLU, Sequential, Softmax\n",
        "from torch.utils.data import DataLoader, Dataset\n",
        "from torchvision import transforms\n",
        "from torch import Tensor\n",
        "from torchvision.datasets import MNIST, CIFAR10\n",
        "from tqdm import trange\n"
      ]
    },
    {
      "cell_type": "markdown",
      "metadata": {},
      "source": [
        "# CONSTANTS"
      ]
    },
    {
      "cell_type": "code",
      "execution_count": 54,
      "metadata": {},
      "outputs": [],
      "source": [
        "BATCH_SIZE = 128\n",
        "EPOCH = 40"
      ]
    },
    {
      "cell_type": "markdown",
      "metadata": {},
      "source": [
        "# MODEL"
      ]
    },
    {
      "cell_type": "code",
      "execution_count": 56,
      "metadata": {
        "id": "gZNUKsVHjSof"
      },
      "outputs": [],
      "source": [
        "class BayesianMLP(PyroModule):\n",
        "  def __init__(self, input_size:int = 784, output_size:int = 10):\n",
        "    \"\"\"\n",
        "    creates a Bayesian MLP with input nodes of size input_size and output nodes of size output_size\n",
        "\n",
        "    :param input_size: dimension of input\n",
        "    :param output_size: dimension of output\n",
        "    :return: BayesianMLP object\n",
        "    \"\"\"\n",
        "    super().__init__()\n",
        "    self.fc1 = PyroModule[nn.Linear](1024, input_size)\n",
        "    self.fc1.weight = PyroSample(dist.Normal(0., 1.).expand([1024, input_size]).to_event(2))\n",
        "    self.fc1.bias = PyroSample(dist.Normal(0., 1.).expand([1024]).to_event(1))\n",
        "    self.fc2 = PyroModule[nn.Linear](output_size, 1024)\n",
        "    self.fc2.weight = PyroSample(dist.Normal(0., 1.).expand([output_size, 1024]).to_event(2))\n",
        "    self.fc2.bias = PyroSample(dist.Normal(0., 1.).expand([output_size]).to_event(1))\n",
        "    self.relu = nn.ReLU()\n",
        "    self.softmax = LogSoftmax(dim=1)\n",
        "  \n",
        "  def forward(self, input, output=None):\n",
        "    \"\"\"\n",
        "    forwards input through the BayesianMLP\n",
        "\n",
        "    :param input: input to the network\n",
        "    :param output: observed variable\n",
        "    :return: sampled output\n",
        "    \"\"\"\n",
        "    out = self.fc1(input)\n",
        "    out = self.relu(out)\n",
        "    out = self.fc2(out)\n",
        "\n",
        "    logits = self.softmax(out)\n",
        "\n",
        "    with pyro.plate(\"data\", out.shape[0]):\n",
        "        return pyro.sample(\"obs\", dist.Categorical(logits=logits), obs=output)"
      ]
    },
    {
      "cell_type": "markdown",
      "metadata": {},
      "source": [
        "# DATASET PREPARATION"
      ]
    },
    {
      "cell_type": "code",
      "execution_count": 57,
      "metadata": {
        "id": "Bi-GEw9MzkM1"
      },
      "outputs": [],
      "source": [
        "train_dataset = MNIST(\n",
        "    root = os.getcwd(), \n",
        "    train = True, \n",
        "    download = True, \n",
        "    transform = transforms.Compose(\n",
        "        [\n",
        "          transforms.ToTensor(), \n",
        "          transforms.Normalize((0.1307,), (0.3081,))\n",
        "        ]\n",
        "    )\n",
        ")\n",
        "\n",
        "train_loader = DataLoader(train_dataset, BATCH_SIZE, shuffle = True)\n",
        "\n",
        "test_dataset = MNIST(\n",
        "    root = os.getcwd(), \n",
        "    train = False, \n",
        "    download = True, \n",
        "    transform = transforms.Compose(\n",
        "        [\n",
        "          transforms.ToTensor(), \n",
        "          transforms.Normalize((0.1307,), (0.3081,))\n",
        "        ]\n",
        "    )\n",
        ")"
      ]
    },
    {
      "cell_type": "markdown",
      "metadata": {},
      "source": [
        "# TRAINING"
      ]
    },
    {
      "cell_type": "code",
      "execution_count": 58,
      "metadata": {
        "colab": {
          "base_uri": "https://localhost:8080/"
        },
        "id": "RGRTwzTf8u_w",
        "outputId": "9adeb85c-5a0e-4228-e0ce-5c55f38595fe"
      },
      "outputs": [
        {
          "name": "stderr",
          "output_type": "stream",
          "text": [
            "Processed image 467: 100%|██████████| 468/468 [00:20<00:00, 23.11it/s]\n"
          ]
        },
        {
          "name": "stdout",
          "output_type": "stream",
          "text": [
            "At epoch: 0 the loss was: 4751343.183026357\n"
          ]
        },
        {
          "name": "stderr",
          "output_type": "stream",
          "text": [
            "Processed image 467: 100%|██████████| 468/468 [00:19<00:00, 23.58it/s]\n"
          ]
        },
        {
          "name": "stdout",
          "output_type": "stream",
          "text": [
            "At epoch: 1 the loss was: 3532529.1672282377\n"
          ]
        },
        {
          "name": "stderr",
          "output_type": "stream",
          "text": [
            "Processed image 467: 100%|██████████| 468/468 [00:20<00:00, 23.22it/s]\n"
          ]
        },
        {
          "name": "stdout",
          "output_type": "stream",
          "text": [
            "At epoch: 2 the loss was: 2436744.8956352137\n"
          ]
        },
        {
          "name": "stderr",
          "output_type": "stream",
          "text": [
            "Processed image 467: 100%|██████████| 468/468 [00:20<00:00, 23.31it/s]\n"
          ]
        },
        {
          "name": "stdout",
          "output_type": "stream",
          "text": [
            "At epoch: 3 the loss was: 1529338.0400264165\n"
          ]
        },
        {
          "name": "stderr",
          "output_type": "stream",
          "text": [
            "Processed image 467: 100%|██████████| 468/468 [00:20<00:00, 23.10it/s]\n"
          ]
        },
        {
          "name": "stdout",
          "output_type": "stream",
          "text": [
            "At epoch: 4 the loss was: 864496.2155754431\n"
          ]
        },
        {
          "name": "stderr",
          "output_type": "stream",
          "text": [
            "Processed image 467: 100%|██████████| 468/468 [00:20<00:00, 23.16it/s]\n"
          ]
        },
        {
          "name": "stdout",
          "output_type": "stream",
          "text": [
            "At epoch: 5 the loss was: 450503.85421465104\n"
          ]
        },
        {
          "name": "stderr",
          "output_type": "stream",
          "text": [
            "Processed image 467: 100%|██████████| 468/468 [00:20<00:00, 23.11it/s]\n"
          ]
        },
        {
          "name": "stdout",
          "output_type": "stream",
          "text": [
            "At epoch: 6 the loss was: 233216.22652964946\n"
          ]
        },
        {
          "name": "stderr",
          "output_type": "stream",
          "text": [
            "Processed image 467: 100%|██████████| 468/468 [00:19<00:00, 23.44it/s]\n"
          ]
        },
        {
          "name": "stdout",
          "output_type": "stream",
          "text": [
            "At epoch: 7 the loss was: 132180.031463176\n"
          ]
        },
        {
          "name": "stderr",
          "output_type": "stream",
          "text": [
            "Processed image 467: 100%|██████████| 468/468 [00:19<00:00, 23.44it/s]\n"
          ]
        },
        {
          "name": "stdout",
          "output_type": "stream",
          "text": [
            "At epoch: 8 the loss was: 87190.24977963045\n"
          ]
        },
        {
          "name": "stderr",
          "output_type": "stream",
          "text": [
            "Processed image 467: 100%|██████████| 468/468 [00:19<00:00, 23.49it/s]\n"
          ]
        },
        {
          "name": "stdout",
          "output_type": "stream",
          "text": [
            "At epoch: 9 the loss was: 66769.6324028857\n"
          ]
        },
        {
          "name": "stderr",
          "output_type": "stream",
          "text": [
            "Processed image 467: 100%|██████████| 468/468 [00:20<00:00, 23.20it/s]\n"
          ]
        },
        {
          "name": "stdout",
          "output_type": "stream",
          "text": [
            "At epoch: 10 the loss was: 56539.6187197268\n"
          ]
        },
        {
          "name": "stderr",
          "output_type": "stream",
          "text": [
            "Processed image 467: 100%|██████████| 468/468 [00:19<00:00, 23.44it/s]\n"
          ]
        },
        {
          "name": "stdout",
          "output_type": "stream",
          "text": [
            "At epoch: 11 the loss was: 50965.34050164744\n"
          ]
        },
        {
          "name": "stderr",
          "output_type": "stream",
          "text": [
            "Processed image 467: 100%|██████████| 468/468 [00:19<00:00, 23.47it/s]\n"
          ]
        },
        {
          "name": "stdout",
          "output_type": "stream",
          "text": [
            "At epoch: 12 the loss was: 48277.17024314776\n"
          ]
        },
        {
          "name": "stderr",
          "output_type": "stream",
          "text": [
            "Processed image 467: 100%|██████████| 468/468 [00:20<00:00, 23.17it/s]\n"
          ]
        },
        {
          "name": "stdout",
          "output_type": "stream",
          "text": [
            "At epoch: 13 the loss was: 46267.32499425858\n"
          ]
        },
        {
          "name": "stderr",
          "output_type": "stream",
          "text": [
            "Processed image 467: 100%|██████████| 468/468 [00:19<00:00, 23.60it/s]\n"
          ]
        },
        {
          "name": "stdout",
          "output_type": "stream",
          "text": [
            "At epoch: 14 the loss was: 44935.11916195601\n"
          ]
        },
        {
          "name": "stderr",
          "output_type": "stream",
          "text": [
            "Processed image 467: 100%|██████████| 468/468 [00:20<00:00, 23.24it/s]\n"
          ]
        },
        {
          "name": "stdout",
          "output_type": "stream",
          "text": [
            "At epoch: 15 the loss was: 44133.78112894297\n"
          ]
        },
        {
          "name": "stderr",
          "output_type": "stream",
          "text": [
            "Processed image 467: 100%|██████████| 468/468 [00:19<00:00, 23.46it/s]\n"
          ]
        },
        {
          "name": "stdout",
          "output_type": "stream",
          "text": [
            "At epoch: 16 the loss was: 43363.161490656435\n"
          ]
        },
        {
          "name": "stderr",
          "output_type": "stream",
          "text": [
            "Processed image 467: 100%|██████████| 468/468 [00:20<00:00, 23.32it/s]\n"
          ]
        },
        {
          "name": "stdout",
          "output_type": "stream",
          "text": [
            "At epoch: 17 the loss was: 43221.800300017\n"
          ]
        },
        {
          "name": "stderr",
          "output_type": "stream",
          "text": [
            "Processed image 467: 100%|██████████| 468/468 [00:19<00:00, 23.41it/s]\n"
          ]
        },
        {
          "name": "stdout",
          "output_type": "stream",
          "text": [
            "At epoch: 18 the loss was: 42429.89156751335\n"
          ]
        },
        {
          "name": "stderr",
          "output_type": "stream",
          "text": [
            "Processed image 467: 100%|██████████| 468/468 [00:20<00:00, 22.99it/s]\n"
          ]
        },
        {
          "name": "stdout",
          "output_type": "stream",
          "text": [
            "At epoch: 19 the loss was: 42111.906178846955\n"
          ]
        },
        {
          "name": "stderr",
          "output_type": "stream",
          "text": [
            "Processed image 467: 100%|██████████| 468/468 [00:20<00:00, 22.92it/s]\n"
          ]
        },
        {
          "name": "stdout",
          "output_type": "stream",
          "text": [
            "At epoch: 20 the loss was: 41705.82100690156\n"
          ]
        },
        {
          "name": "stderr",
          "output_type": "stream",
          "text": [
            "Processed image 467: 100%|██████████| 468/468 [00:20<00:00, 23.35it/s]\n"
          ]
        },
        {
          "name": "stdout",
          "output_type": "stream",
          "text": [
            "At epoch: 21 the loss was: 41858.49648690969\n"
          ]
        },
        {
          "name": "stderr",
          "output_type": "stream",
          "text": [
            "Processed image 467: 100%|██████████| 468/468 [00:19<00:00, 23.53it/s]\n"
          ]
        },
        {
          "name": "stdout",
          "output_type": "stream",
          "text": [
            "At epoch: 22 the loss was: 41360.32131327689\n"
          ]
        },
        {
          "name": "stderr",
          "output_type": "stream",
          "text": [
            "Processed image 467: 100%|██████████| 468/468 [00:20<00:00, 22.91it/s]\n"
          ]
        },
        {
          "name": "stdout",
          "output_type": "stream",
          "text": [
            "At epoch: 23 the loss was: 41452.62125771493\n"
          ]
        },
        {
          "name": "stderr",
          "output_type": "stream",
          "text": [
            "Processed image 467: 100%|██████████| 468/468 [00:20<00:00, 23.10it/s]\n"
          ]
        },
        {
          "name": "stdout",
          "output_type": "stream",
          "text": [
            "At epoch: 24 the loss was: 40917.27993545681\n"
          ]
        },
        {
          "name": "stderr",
          "output_type": "stream",
          "text": [
            "Processed image 467: 100%|██████████| 468/468 [00:20<00:00, 22.71it/s]\n"
          ]
        },
        {
          "name": "stdout",
          "output_type": "stream",
          "text": [
            "At epoch: 25 the loss was: 40719.01121405512\n"
          ]
        },
        {
          "name": "stderr",
          "output_type": "stream",
          "text": [
            "Processed image 467: 100%|██████████| 468/468 [00:20<00:00, 23.01it/s]\n"
          ]
        },
        {
          "name": "stdout",
          "output_type": "stream",
          "text": [
            "At epoch: 26 the loss was: 40424.58570318669\n"
          ]
        },
        {
          "name": "stderr",
          "output_type": "stream",
          "text": [
            "Processed image 467: 100%|██████████| 468/468 [00:19<00:00, 23.62it/s]\n"
          ]
        },
        {
          "name": "stdout",
          "output_type": "stream",
          "text": [
            "At epoch: 27 the loss was: 40340.59591843933\n"
          ]
        },
        {
          "name": "stderr",
          "output_type": "stream",
          "text": [
            "Processed image 467: 100%|██████████| 468/468 [00:20<00:00, 22.88it/s]\n"
          ]
        },
        {
          "name": "stdout",
          "output_type": "stream",
          "text": [
            "At epoch: 28 the loss was: 40008.41429132223\n"
          ]
        },
        {
          "name": "stderr",
          "output_type": "stream",
          "text": [
            "Processed image 467: 100%|██████████| 468/468 [00:20<00:00, 22.91it/s]\n"
          ]
        },
        {
          "name": "stdout",
          "output_type": "stream",
          "text": [
            "At epoch: 29 the loss was: 39904.91870614886\n"
          ]
        },
        {
          "name": "stderr",
          "output_type": "stream",
          "text": [
            "Processed image 467: 100%|██████████| 468/468 [00:19<00:00, 23.56it/s]\n"
          ]
        },
        {
          "name": "stdout",
          "output_type": "stream",
          "text": [
            "At epoch: 30 the loss was: 39920.07426185906\n"
          ]
        },
        {
          "name": "stderr",
          "output_type": "stream",
          "text": [
            "Processed image 467: 100%|██████████| 468/468 [00:19<00:00, 23.41it/s]\n"
          ]
        },
        {
          "name": "stdout",
          "output_type": "stream",
          "text": [
            "At epoch: 31 the loss was: 39903.83296249807\n"
          ]
        },
        {
          "name": "stderr",
          "output_type": "stream",
          "text": [
            "Processed image 467: 100%|██████████| 468/468 [00:20<00:00, 23.08it/s]\n"
          ]
        },
        {
          "name": "stdout",
          "output_type": "stream",
          "text": [
            "At epoch: 32 the loss was: 39531.34138819575\n"
          ]
        },
        {
          "name": "stderr",
          "output_type": "stream",
          "text": [
            "Processed image 467: 100%|██████████| 468/468 [00:19<00:00, 23.56it/s]\n"
          ]
        },
        {
          "name": "stdout",
          "output_type": "stream",
          "text": [
            "At epoch: 33 the loss was: 39483.143574886024\n"
          ]
        },
        {
          "name": "stderr",
          "output_type": "stream",
          "text": [
            "Processed image 467: 100%|██████████| 468/468 [00:20<00:00, 22.39it/s]\n"
          ]
        },
        {
          "name": "stdout",
          "output_type": "stream",
          "text": [
            "At epoch: 34 the loss was: 39242.07673315704\n"
          ]
        },
        {
          "name": "stderr",
          "output_type": "stream",
          "text": [
            "Processed image 467: 100%|██████████| 468/468 [00:20<00:00, 23.17it/s]\n"
          ]
        },
        {
          "name": "stdout",
          "output_type": "stream",
          "text": [
            "At epoch: 35 the loss was: 39319.739766426384\n"
          ]
        },
        {
          "name": "stderr",
          "output_type": "stream",
          "text": [
            "Processed image 467: 100%|██████████| 468/468 [00:19<00:00, 23.43it/s]\n"
          ]
        },
        {
          "name": "stdout",
          "output_type": "stream",
          "text": [
            "At epoch: 36 the loss was: 39168.960543856025\n"
          ]
        },
        {
          "name": "stderr",
          "output_type": "stream",
          "text": [
            "Processed image 467: 100%|██████████| 468/468 [00:19<00:00, 23.41it/s]\n"
          ]
        },
        {
          "name": "stdout",
          "output_type": "stream",
          "text": [
            "At epoch: 37 the loss was: 39072.871697604656\n"
          ]
        },
        {
          "name": "stderr",
          "output_type": "stream",
          "text": [
            "Processed image 467: 100%|██████████| 468/468 [00:20<00:00, 23.08it/s]\n"
          ]
        },
        {
          "name": "stdout",
          "output_type": "stream",
          "text": [
            "At epoch: 38 the loss was: 39091.417410194874\n"
          ]
        },
        {
          "name": "stderr",
          "output_type": "stream",
          "text": [
            "Processed image 467: 100%|██████████| 468/468 [00:20<00:00, 23.05it/s]"
          ]
        },
        {
          "name": "stdout",
          "output_type": "stream",
          "text": [
            "At epoch: 39 the loss was: 38925.95010703057\n"
          ]
        },
        {
          "name": "stderr",
          "output_type": "stream",
          "text": [
            "\n"
          ]
        },
        {
          "data": {
            "text/plain": [
              "[<matplotlib.lines.Line2D at 0x280637b50>]"
            ]
          },
          "execution_count": 58,
          "metadata": {},
          "output_type": "execute_result"
        },
        {
          "data": {
            "image/png": "[encoded data removed]",
            "text/plain": [
              "<Figure size 640x480 with 1 Axes>"
            ]
          },
          "metadata": {},
          "output_type": "display_data"
        }
      ],
      "source": [
        "model = BayesianMLP()\n",
        "guide = AutoNormal(model) # use Normal distribution as prior guide for SVI. This is the approximation of the posterior P(H|D)\n",
        "adam = pyro.optim.Adam({\"lr\": 0.001}) # Adam optimizer for SVI\n",
        "svi = SVI(model, guide, adam, loss=Trace_ELBO()) # specify ELBO loss using Stochastic Variational Inference\n",
        "\n",
        "pyro.clear_param_store() # clear out any stored parameter from pyro \n",
        "\n",
        "epoch_losses = []\n",
        "\n",
        "for e in range(EPOCH):\n",
        "  loss = 0\n",
        "  tbar = trange(len(train_loader.dataset)//BATCH_SIZE)\n",
        "  for data, i in zip(train_loader, tbar):\n",
        "    x = torch.flatten(data[0], start_dim = 1)\n",
        "    y = data[1]\n",
        "    tbar.set_description(f\"Processed image {i}\")\n",
        "    loss += svi.step(x, y) / BATCH_SIZE\n",
        "   \n",
        "  epoch_loss = loss / len(train_loader.dataset)\n",
        "  epoch_losses.append(epoch_loss)\n",
        "  print(f\"At epoch: {e} the loss was: {loss}\")\n",
        "\n",
        "plt.plot([loss/10000 for loss in epoch_losses])\n",
        "plt.xlabel(\"Epoch\")\n",
        "plt.ylabel(\"Epoch Loss\")"
      ]
    },
    {
      "cell_type": "markdown",
      "metadata": {},
      "source": [
        "# PREDICTION ON MNIST"
      ]
    },
    {
      "cell_type": "code",
      "execution_count": 64,
      "metadata": {},
      "outputs": [],
      "source": [
        "def display_inference(display:int, images: List[Tensor], means: List[int], stds: List[float]):\n",
        "    f, axes = plt.subplots(display, 2)\n",
        "    for i in range(display):\n",
        "        axes[i, 0].set_axis_off()\n",
        "        axes[i, 1].set_axis_off()\n",
        "\n",
        "        axes[i, 0].imshow(images[i], cmap = 'gray')\n",
        "        axes[i, 1].text(0, 0, f\"prediction = {means[i]}, std = {stds[i]}\")"
      ]
    },
    {
      "cell_type": "code",
      "execution_count": 67,
      "metadata": {},
      "outputs": [],
      "source": [
        "def calculate_inference(num_to_sample:int, dataset: Dataset, pred: Predictive):\n",
        "    dataset = list(dataset)\n",
        "\n",
        "    sampled = random.sample(dataset, k=num_to_sample)\n",
        "\n",
        "    images = [sample[0].squeeze(0) for sample in sampled]\n",
        "    predictions = [pred(sample[0].flatten(0).unsqueeze(0)) for sample in sampled]\n",
        "    means = [round(prediction['obs'].T.numpy().mean(axis=1)[0]) for prediction in predictions]\n",
        "    stds = [prediction['obs'].T.numpy().std(axis=1)[0] for prediction in predictions]\n",
        "\n",
        "    return (images, means, stds)"
      ]
    },
    {
      "cell_type": "markdown",
      "metadata": {},
      "source": [
        "The bayesian MLP is able to predict the label pretty well with a low standard deviation, meaning that the network is very confident about its answer."
      ]
    },
    {
      "cell_type": "code",
      "execution_count": 70,
      "metadata": {
        "colab": {
          "base_uri": "https://localhost:8080/",
          "height": 418
        },
        "id": "9icqDZOaDKtW",
        "outputId": "8218999b-d6b6-4b2d-9f6c-c69aa9852ae7"
      },
      "outputs": [
        {
          "data": {
            "image/png": "[encoded data removed]",
            "text/plain": [
              "<Figure size 640x480 with 10 Axes>"
            ]
          },
          "metadata": {},
          "output_type": "display_data"
        }
      ],
      "source": [
        "NUM_TO_DISPLAY = 5\n",
        "\n",
        "pred = Predictive(model, guide=guide, num_samples=500)\n",
        "\n",
        "display_inference(NUM_TO_DISPLAY, *calculate_inference(NUM_TO_DISPLAY, test_dataset, pred))"
      ]
    },
    {
      "cell_type": "markdown",
      "metadata": {},
      "source": [
        "# PREDICTION ON CIFAR10"
      ]
    },
    {
      "cell_type": "markdown",
      "metadata": {},
      "source": [
        "On the other hand, this dataset is very different from MNIST, therefore, the network is very uncertain about its prediction as evidenced by the high standard deviation value for each predicted label."
      ]
    },
    {
      "cell_type": "code",
      "execution_count": 83,
      "metadata": {},
      "outputs": [
        {
          "name": "stdout",
          "output_type": "stream",
          "text": [
            "Files already downloaded and verified\n"
          ]
        },
        {
          "data": {
            "image/png": "[encoded data removed]",
            "text/plain": [
              "<Figure size 640x480 with 10 Axes>"
            ]
          },
          "metadata": {},
          "output_type": "display_data"
        }
      ],
      "source": [
        "cifar_dataset = CIFAR10(\n",
        "    root = os.getcwd(), \n",
        "    train = False, \n",
        "    download = True, \n",
        "    transform = transforms.Compose(\n",
        "        [\n",
        "          transforms.ToTensor(), \n",
        "          transforms.Resize((28, 28)),\n",
        "          transforms.Grayscale(num_output_channels=1),\n",
        "          transforms.Normalize((0.5,), (0.5,))\n",
        "        ]\n",
        "    )\n",
        ")\n",
        "\n",
        "display_inference(NUM_TO_DISPLAY, *calculate_inference(NUM_TO_DISPLAY, cifar_dataset, pred))"
      ]
    },
    {
      "cell_type": "code",
      "execution_count": null,
      "metadata": {},
      "outputs": [],
      "source": [
        "class BayesianCNN(PyroModule):\n",
        "  def __init__(self, input_size:int = 784, output_size:int = 10):\n",
        "    \"\"\"\n",
        "    creates a Bayesian CNN with input nodes of size input_size and output nodes of size output_size\n",
        "\n",
        "    :param input_size: dimension of input\n",
        "    :param output_size: dimension of output\n",
        "    :return: BayesianCNN object\n",
        "    \"\"\"\n",
        "    super().__init__()\n",
        "    \n",
        "  \n",
        "  def forward(self, input, output=None):\n",
        "    \"\"\"\n",
        "    forwards input through the BayesianCNN\n",
        "\n",
        "    :param input: input to the network\n",
        "    :param output: observed variable\n",
        "    :return: sampled output\n",
        "    \"\"\"\n",
        "    out = self.fc1(input)\n",
        "    out = self.relu(out)\n",
        "    out = self.fc2(out)\n",
        "\n",
        "    logits = self.softmax(out)\n",
        "\n",
        "    with pyro.plate(\"data\", out.shape[0]):\n",
        "        return pyro.sample(\"obs\", dist.Categorical(logits=logits), obs=output)"
      ]
    }
  ],
  "metadata": {
    "colab": {
      "collapsed_sections": [],
      "provenance": []
    },
    "kernelspec": {
      "display_name": "Python 3.10.7 ('venv': venv)",
      "language": "python",
      "name": "python3"
    },
    "language_info": {
      "codemirror_mode": {
        "name": "ipython",
        "version": 3
      },
      "file_extension": ".py",
      "mimetype": "text/x-python",
      "name": "python",
      "nbconvert_exporter": "python",
      "pygments_lexer": "ipython3",
      "version": "3.10.7"
    },
    "vscode": {
      "interpreter": {
        "hash": "e98efa19b07fabb7c7bc6f4d2fb3064edf62c01c27e6f30751ee772aa4568cce"
      }
    }
  },
  "nbformat": 4,
  "nbformat_minor": 0
}
